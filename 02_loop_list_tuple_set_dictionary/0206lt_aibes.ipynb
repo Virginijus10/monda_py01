{
 "cells": [
  {
   "cell_type": "markdown",
   "metadata": {},
   "source": [
    "# Aibės (`set`)\n",
    "\n",
    "Aibės (`set`) yra kolekcijos tipo objektai, kurie skiriasi nuo sąrašų ir tuplų tuo, kad jie saugo tik unikalius elementus. \n",
    "- Tai reiškia, kad jei bandoma pridėti elementą, kuris jau egzistuoja aibėje, jis nebus pridėtas ir nebus rodomas kelis kartus. \n",
    "- Skirtingai nuo sąrašų ir tuplų, kurie gali saugoti dublikatus, aibės dublikatų neišlaiko. \n",
    "- Kitas svarbus skirtumas yra tas, kad aibės nenaudoja indeksų, todėl jų elementų tvarka nėra nurodyta."
   ]
  },
  {
   "cell_type": "markdown",
   "metadata": {},
   "source": [
    "## Aibių sukūrimas\n",
    "\n",
    "Aibės gali būti sukurtos paprasčiausiai išvardijant elementus tarp skliaustų `{}`, atskirtus kableliais. \n",
    "\n",
    "**Pavyzdžiui**:"
   ]
  },
  {
   "cell_type": "code",
   "execution_count": null,
   "metadata": {},
   "outputs": [],
   "source": [
    "mano_aibe = {'obuolys', 'bananas', 'apelsinas'}\n",
    "print(mano_aibe)\n",
    "\n",
    "# Norint sukurti tuščią aibę, galite pasinaudoti funkcija set():\n",
    "tuscia_aibe = set()\n",
    "print(tuscia_aibe)"
   ]
  },
  {
   "cell_type": "markdown",
   "metadata": {},
   "source": [
    "---\n",
    "\n",
    "## Aibių Metodai\n",
    "\n",
    "Aibės pasižymi įvairiais metodais, kurie palengvina elementų paiešką, filtravimą, rikiavimą ir pan. \n",
    "\n",
    "Štai keletas pagrindinių aibių metodų su aiškesniais pavyzdžiais:\n",
    "\n",
    "`add()` - prideda vieną elementą į aibę:"
   ]
  },
  {
   "cell_type": "code",
   "execution_count": null,
   "metadata": {},
   "outputs": [],
   "source": [
    "aibe = {1, 2, 3}\n",
    "aibe.add(4)\n",
    "print(aibe)  # {1, 2, 3, 4}"
   ]
  },
  {
   "cell_type": "markdown",
   "metadata": {},
   "source": [
    "### Greitas uždavinys 1\n",
    "\n",
    "1. Sukurkite aibę su skaičiais.\n",
    "1. Pridėkite keletą skaičių į aibę.\n",
    "1. Atspausdinkite aibę su pridėtais naujais skaičiais."
   ]
  },
  {
   "cell_type": "code",
   "execution_count": 1,
   "metadata": {},
   "outputs": [
    {
     "name": "stdout",
     "output_type": "stream",
     "text": [
      "{1, 2, 3, 4, 5}\n"
     ]
    }
   ],
   "source": [
    "# jusu kodo vieta\n",
    "aibe = {1, 2, 3, 4}\n",
    "aibe.add(5)\n",
    "print(aibe)\n"
   ]
  },
  {
   "cell_type": "markdown",
   "metadata": {},
   "source": [
    "---\n",
    "\n",
    "`update()` - prideda kitą aibę arba sąrašą į aibę:"
   ]
  },
  {
   "cell_type": "code",
   "execution_count": null,
   "metadata": {},
   "outputs": [],
   "source": [
    "aibe = {1, 2, 3}\n",
    "sarasas = [3, 4, 5]\n",
    "aibe.update(sarasas)\n",
    "print(aibe)  # {1, 2, 3, 4, 5}"
   ]
  },
  {
   "cell_type": "markdown",
   "metadata": {},
   "source": [
    "❗ Aibėje negali būti saugomi pasikartojantys elementai. \n",
    "\n",
    "Jeigu bandote pridėti elementą, kuris jau yra aibėje, jis tiesiog nebus pridėtas ir nieko neįvyks."
   ]
  },
  {
   "cell_type": "markdown",
   "metadata": {},
   "source": [
    "### Greitas uždavinys 2\n",
    "\n",
    "Sukurkite dvi aibes su keliais skirtingais ir vienodais elementais. Sujunkite abi aibes ir atspausdinkite rezultatą."
   ]
  },
  {
   "cell_type": "code",
   "execution_count": 6,
   "metadata": {},
   "outputs": [
    {
     "name": "stdout",
     "output_type": "stream",
     "text": [
      "{1, 2, 3, 6, 7, 8}\n"
     ]
    }
   ],
   "source": [
    "# jusu kodo vieta\n",
    "aibe = {1, 2, 3}\n",
    "sarasas = [6, 7, 8]\n",
    "aibe.update(sarasas)\n",
    "print(aibe)"
   ]
  },
  {
   "cell_type": "markdown",
   "metadata": {},
   "source": [
    "---\n",
    "\n",
    "`remove()` - pašalina elementą iš aibės. Jeigu elemento nėra aibėje, išmetamas `KeyError` klaidos pranešimas:.\n",
    "DAZNIAU NAUDOJAMAS, KAI NEZINOMA, AR JIS YRA, GEITESNIS"
   ]
  },
  {
   "cell_type": "markdown",
   "metadata": {},
   "source": []
  },
  {
   "cell_type": "code",
   "execution_count": null,
   "metadata": {},
   "outputs": [],
   "source": [
    "aibe = {1, 2, 3}\n",
    "aibe.remove(2)\n",
    "print(aibe)  # {1, 3}"
   ]
  },
  {
   "cell_type": "code",
   "execution_count": 3,
   "metadata": {},
   "outputs": [
    {
     "ename": "KeyError",
     "evalue": "4",
     "output_type": "error",
     "traceback": [
      "\u001b[1;31m---------------------------------------------------------------------------\u001b[0m",
      "\u001b[1;31mKeyError\u001b[0m                                  Traceback (most recent call last)",
      "Cell \u001b[1;32mIn[3], line 2\u001b[0m\n\u001b[0;32m      1\u001b[0m aibe \u001b[38;5;241m=\u001b[39m {\u001b[38;5;241m1\u001b[39m, \u001b[38;5;241m2\u001b[39m, \u001b[38;5;241m3\u001b[39m} \u001b[38;5;66;03m#TEISINGAS, TAIP IR TURI BUTI, SU TOKIO TIPO VAIZDU\u001b[39;00m\n\u001b[1;32m----> 2\u001b[0m \u001b[43maibe\u001b[49m\u001b[38;5;241;43m.\u001b[39;49m\u001b[43mremove\u001b[49m\u001b[43m(\u001b[49m\u001b[38;5;241;43m4\u001b[39;49m\u001b[43m)\u001b[49m\n\u001b[0;32m      3\u001b[0m \u001b[38;5;28mprint\u001b[39m(aibe) \n",
      "\u001b[1;31mKeyError\u001b[0m: 4"
     ]
    }
   ],
   "source": [
    "aibe = {1, 2, 3} #TEISINGAS, TAIP IR TURI BUTI, SU TOKIO TIPO VAIZDU\n",
    "aibe.remove(4)  #NERA 4\n",
    "print(aibe) "
   ]
  },
  {
   "cell_type": "markdown",
   "metadata": {},
   "source": [
    "`discard()` - pašalina elementą iš aibės. Jeigu elemento nėra aibėje, jokio klaidos pranešimo nėra:\n",
    "\n"
   ]
  },
  {
   "cell_type": "code",
   "execution_count": null,
   "metadata": {},
   "outputs": [],
   "source": [
    "aibe = {1, 2, 3}\n",
    "aibe.discard(2)\n",
    "print(aibe)  # {1, 3}\n",
    "aibe.discard(4)\n",
    "print(aibe)\n"
   ]
  },
  {
   "cell_type": "markdown",
   "metadata": {},
   "source": [
    "### Greitas uždavinys 3\n",
    "\n",
    "**Instrukcijos**:\n",
    "\n",
    "1. Sukurkite aibę su skaičiais.\n",
    "1. Pašalinkite keletą skaičių iš aibės.\n",
    "1. Atspausdinkite atnaujintą aibę."
   ]
  },
  {
   "cell_type": "code",
   "execution_count": 8,
   "metadata": {},
   "outputs": [
    {
     "name": "stdout",
     "output_type": "stream",
     "text": [
      "{1, 2, 3, 7, 8}\n"
     ]
    }
   ],
   "source": [
    "# jusu kodo vieta\n",
    "aibe.remove(6)\n",
    "print(aibe)"
   ]
  },
  {
   "cell_type": "code",
   "execution_count": 9,
   "metadata": {},
   "outputs": [
    {
     "name": "stdout",
     "output_type": "stream",
     "text": [
      "{1, 2, 3, 7, 8}\n"
     ]
    }
   ],
   "source": [
    "aibe.discard(5)\n",
    "print(aibe)\n"
   ]
  },
  {
   "cell_type": "code",
   "execution_count": 11,
   "metadata": {},
   "outputs": [
    {
     "name": "stdout",
     "output_type": "stream",
     "text": [
      "{1, 2, 3, 7, 8}\n"
     ]
    }
   ],
   "source": [
    "aibe.discard(10)\n",
    "print(aibe)"
   ]
  },
  {
   "cell_type": "markdown",
   "metadata": {},
   "source": [
    "---\n",
    "\n",
    "`pop()` - pašalina ir grąžina bet kurį elementą iš aibės. Jeigu aibė yra tuščia, išmetamas `KeyError` klaidos pranešimas:"
   ]
  },
  {
   "cell_type": "code",
   "execution_count": 4,
   "metadata": {},
   "outputs": [
    {
     "name": "stdout",
     "output_type": "stream",
     "text": [
      "{2, 3}\n",
      "1\n"
     ]
    }
   ],
   "source": [
    "aibe = {51, -5, 0, 1, 2, 3, 4, 5, 9, 11}\n",
    "elementas = aibe.pop()\n",
    "print(aibe)  # {2, 3}\n",
    "print(elementas)  # 1"
   ]
  },
  {
   "cell_type": "code",
   "execution_count": 14,
   "metadata": {},
   "outputs": [
    {
     "name": "stdout",
     "output_type": "stream",
     "text": [
      "{3, 4, 5, 10}\n",
      "2\n"
     ]
    }
   ],
   "source": [
    "aibe = {10, 2, 3, 4, 5}\n",
    "elementas = aibe.pop()\n",
    "print(aibe)  \n",
    "print(elementas)"
   ]
  },
  {
   "cell_type": "markdown",
   "metadata": {},
   "source": [
    "### Greitas uždavinys 4\n",
    "\n",
    "Sukurkite aibę skaičių. Ištraukite bet kokį element1 iš aibės ir jį atspausdinkite. Taip pat atspausdinkite likusią aibę."
   ]
  },
  {
   "cell_type": "code",
   "execution_count": 17,
   "metadata": {},
   "outputs": [
    {
     "name": "stdout",
     "output_type": "stream",
     "text": [
      "{2, 3, 81, 5, 54, 7}\n",
      "97\n"
     ]
    }
   ],
   "source": [
    "# jusu kodo vieta\n",
    "aibe = {7, 81, 2, 3, 54, 97, 3, 5}\n",
    "elementas = aibe.pop()\n",
    "print(aibe)\n",
    "print(elementas)"
   ]
  },
  {
   "cell_type": "markdown",
   "metadata": {},
   "source": [
    "---\n",
    "\n",
    "`clear()` - pašalina visus elementus iš aibės:"
   ]
  },
  {
   "cell_type": "code",
   "execution_count": null,
   "metadata": {},
   "outputs": [],
   "source": [
    "aibe = {1, 2, 3}\n",
    "aibe.clear()\n",
    "print(aibe)  # set()"
   ]
  },
  {
   "cell_type": "markdown",
   "metadata": {},
   "source": [
    "`copy()` - grąžina aibės kopiją:"
   ]
  },
  {
   "cell_type": "code",
   "execution_count": 18,
   "metadata": {},
   "outputs": [
    {
     "name": "stdout",
     "output_type": "stream",
     "text": [
      "{1, 2, 3}\n"
     ]
    }
   ],
   "source": [
    "aibe = {1, 2, 3}\n",
    "kopija = aibe.copy()\n",
    "aibe = {3, 4, 5}\n",
    "print(aibe, kopija)  # {1, 2, 3}"
   ]
  },
  {
   "cell_type": "markdown",
   "metadata": {},
   "source": [
    "`union()` - sujungia aibes be pasikantojančių elementų:"
   ]
  },
  {
   "cell_type": "code",
   "execution_count": 19,
   "metadata": {},
   "outputs": [
    {
     "name": "stdout",
     "output_type": "stream",
     "text": [
      "{1, 2, 3, 4, 5}\n"
     ]
    }
   ],
   "source": [
    "aibe1 = {1, 2, 3}\n",
    "aibe2 = {3, 4, 5}\n",
    "aibe3 = aibe1.union(aibe2)\n",
    "print(aibe3, aibe1, aibe2)  # {1, 2, 3, 4, 5}"
   ]
  },
  {
   "cell_type": "markdown",
   "metadata": {},
   "source": [
    "`intersection()` - grąžina visus elementus, kurie yra abiejose aibėse:"
   ]
  },
  {
   "cell_type": "code",
   "execution_count": 20,
   "metadata": {},
   "outputs": [
    {
     "name": "stdout",
     "output_type": "stream",
     "text": [
      "{3}\n"
     ]
    }
   ],
   "source": [
    "aibe1 = {1, 2, 3, 5}\n",
    "aibe2 = {3, 4, 5, 2}\n",
    "aibe4 = aibe1.intersection(aibe2)\n",
    "print(aibe4)  # {3}"
   ]
  },
  {
   "cell_type": "markdown",
   "metadata": {},
   "source": [
    "### Greitas uždavinys 5\n",
    "\n",
    "**Instrukcijos**\n",
    "\n",
    "- Sukurkite dvi aibes su skirtingu kiekiu elementų, iš kurių keli sutampa.\n",
    "- Atspausdinkite tų aibių uniją (union).\n",
    "- Atspausdinkite tų aibių sankirtą (intersection)"
   ]
  },
  {
   "cell_type": "code",
   "execution_count": 22,
   "metadata": {},
   "outputs": [
    {
     "name": "stdout",
     "output_type": "stream",
     "text": [
      "{3, 4}\n",
      "{1, 2, 3, 4, 5, 6, 7}\n"
     ]
    }
   ],
   "source": [
    "# jusu kodo vieta\n",
    "aibe = {1, 2, 3, 4}\n",
    "aibe1 = {3, 4, 5, 6, 7}\n",
    "n_aibe = aibe.intersection(aibe1)\n",
    "print(n_aibe)\n",
    "u_aibe = aibe.union(aibe1)\n",
    "print(u_aibe)"
   ]
  },
  {
   "cell_type": "markdown",
   "metadata": {},
   "source": [
    "---\n",
    "\n",
    "`difference()` - grąžina visus elementus, kurie yra pirmoje aibėje, bet nėra antroje aibėje:"
   ]
  },
  {
   "cell_type": "code",
   "execution_count": null,
   "metadata": {},
   "outputs": [],
   "source": [
    "aibe1 = {1, 2, 3, 5}\n",
    "aibe2 = {3, 4, 6, 1}\n",
    "print(aibe1.difference(aibe2))  # {2, 5}\n",
    "print(aibe2.difference(aibe1))  # {4, 6}"
   ]
  },
  {
   "cell_type": "markdown",
   "metadata": {},
   "source": [
    "### Greitas uždavinys 6\n",
    "\n",
    "**Instrukcijos**:\n",
    "\n",
    "- Sukurkite dvi aibes su skirtingu kiekiu elementų, iš kurių keli sutampa.\n",
    "- atspausdinkite tik tuos elementus pirmosios aibės, kurie nesutampa su antrosios aibės elementais.\n",
    "- atspausdinkite tik tuos elementus antrosios aibės, kurie nesutampa su pirmosios aibės elementais."
   ]
  },
  {
   "cell_type": "code",
   "execution_count": 24,
   "metadata": {},
   "outputs": [
    {
     "name": "stdout",
     "output_type": "stream",
     "text": [
      "{1, 2}\n",
      "{5, 6, 7}\n"
     ]
    }
   ],
   "source": [
    "# jusu kodo vieta\n",
    "aibe = {1, 2, 3, 4}\n",
    "aibe1 = {3, 4, 5, 6, 7}\n",
    "dif_aibe = aibe.difference(aibe1)\n",
    "print(dif_aibe)\n",
    "dif_aibe1 = aibe1.difference(aibe)\n",
    "print(dif_aibe1)\n"
   ]
  },
  {
   "cell_type": "markdown",
   "metadata": {},
   "source": [
    "---\n",
    "\n",
    "`symmetric_difference()` - Symetrinio skirtumo aibės metodas grąžina naują aibę, kurią sudaro elementai, esantys vienoje arba kitoje aibėje, bet ne abiejose."
   ]
  },
  {
   "cell_type": "code",
   "execution_count": 25,
   "metadata": {},
   "outputs": [
    {
     "name": "stdout",
     "output_type": "stream",
     "text": [
      "{1, 2, 4, 5}\n"
     ]
    }
   ],
   "source": [
    "aibe1 = {1, 2, 3}\n",
    "aibe2 = {3, 4, 5}\n",
    "\n",
    "sym_skirtumas = aibe1.symmetric_difference(aibe2)\n",
    "print(sym_skirtumas)  # {1, 2, 4, 5}"
   ]
  },
  {
   "cell_type": "markdown",
   "metadata": {},
   "source": [
    "### Greitas uždavinys 7\n",
    "\n",
    "**Instrukcijos**:\n",
    "\n",
    "- Sukurkite dvi aibes su skirtingu kiekiu elementų, iš kurių keli sutampa.\n",
    "- atspausdinkite tik tuos elementus, kurie nesikartoja abejose aibėse."
   ]
  },
  {
   "cell_type": "code",
   "execution_count": 26,
   "metadata": {},
   "outputs": [
    {
     "name": "stdout",
     "output_type": "stream",
     "text": [
      "{1, 2, 5, 6, 7}\n"
     ]
    }
   ],
   "source": [
    "# jusu kodo vieta\n",
    "aibe = {1, 2, 3, 4}\n",
    "aibe1 = {3, 4, 5, 6, 7}\n",
    "simetrine = aibe.symmetric_difference(aibe1)\n",
    "print(simetrine)\n"
   ]
  },
  {
   "cell_type": "markdown",
   "metadata": {},
   "source": [
    "---\n",
    "\n",
    "## Aibių operatoriai\n",
    "\n",
    "Sąjunga (`|`):\n",
    "- Jungia dvi aibes, įtraukiant visas unikalias abiejų aibių reikšmes. Atitinka aibės metodą `.union()`\n",
    "\n",
    "Sankirta (`&`):\n",
    "- Atranda bendras reikšmes dviejose aibėse. Atitinka aibės metoda `.intersection()`\n",
    "\n",
    "Skirtumas (`-`):\n",
    "- Atima antrosios aibės elementus iš pirmosios aibės. Atitinka aibės metodą `.difference()`\n",
    "\n",
    "Simetrinis Skirtumas (`^`):\n",
    "- Atranda elementus, unikalius kiekvienai aibei, neįtraukiant bendrų elementų. Atitinka aibės metodą `.symmetric_difference()`"
   ]
  },
  {
   "cell_type": "code",
   "execution_count": 27,
   "metadata": {},
   "outputs": [
    {
     "name": "stdout",
     "output_type": "stream",
     "text": [
      "{1, 2, 3, 4, 5}\n",
      "{3}\n",
      "{1, 2}\n",
      "{1, 2, 4, 5}\n"
     ]
    }
   ],
   "source": [
    "aibe1 = {1, 2, 3}\n",
    "aibe2 = {3, 4, 5}\n",
    "\n",
    "sujungimas = aibe1 | aibe2\n",
    "print(sujungimas)\n",
    "# Rezultatas: {1, 2, 3, 4, 5}\n",
    "\n",
    "sankirta = aibe1 & aibe2\n",
    "print(sankirta)\n",
    "# Rezultatas: {3}\n",
    "\n",
    "skirtumas = aibe1 - aibe2\n",
    "print(skirtumas)\n",
    "# Rezultatas: {1, 2}\n",
    "\n",
    "simetrinis_skirtumas = aibe1 ^ aibe2\n",
    "print(simetrinis_skirtumas)\n",
    "# Rezultatas: {1, 2, 4, 5}"
   ]
  },
  {
   "cell_type": "markdown",
   "metadata": {},
   "source": [
    "Šie operatoriai leidžia atlikti greitesnes ir efektyviasnes aibių operacijas Python programavimo kalboje."
   ]
  },
  {
   "cell_type": "markdown",
   "metadata": {},
   "source": [
    "### Greitas uždavinys 8\n",
    "\n",
    "**Instrukcijos**:\n",
    "\n",
    "- Sukurkite dvi aibes su skirtingu kiekiu elementų, iš kurių keli sutampa.\n",
    "- atspausdinkite šių aibių sujungimą, sankirtą, skirtumą ir simetrinį skirtumą atskirose eilutėse."
   ]
  },
  {
   "cell_type": "code",
   "execution_count": 43,
   "metadata": {},
   "outputs": [
    {
     "name": "stdout",
     "output_type": "stream",
     "text": [
      "{1, 2, 3, 4, 5, 6, 7}\n",
      "{3, 4}\n",
      "{1, 2}\n",
      "{1, 2, 5, 6, 7}\n"
     ]
    }
   ],
   "source": [
    "# jusu kodo vieta\n",
    "aibe = {1, 2, 3, 4}\n",
    "aibe1 = {3, 4, 5, 6, 7}\n",
    "sujungimas = aibe | aibe1       #AND\n",
    "print(sujungimas)           \n",
    "sankirta = aibe & aibe1         #OR\n",
    "print(sankirta)\n",
    "pirmos_skirtumas_nuo_antros = aibe - aibe1\n",
    "print(pirmos_skirtumas_nuo_antros)\n",
    "simetrinis_skirtumas = aibe ^ aibe1\n",
    "print(simetrinis_skirtumas)"
   ]
  },
  {
   "cell_type": "markdown",
   "metadata": {},
   "source": [
    "---\n",
    "\n",
    "## Aibių iteravimas\n",
    "\n",
    "Aibės yra iteruojamos struktūros, kurias galima lengvai peržiūrėti su ciklais arba įvairiais aibių metodais.\n",
    "\n",
    "**Pavyzdžiui**:"
   ]
  },
  {
   "cell_type": "code",
   "execution_count": 33,
   "metadata": {},
   "outputs": [
    {
     "name": "stdout",
     "output_type": "stream",
     "text": [
      "1\n",
      "2\n",
      "3\n"
     ]
    }
   ],
   "source": [
    "aibe = {1, 2, 3}\n",
    "for elementas in aibe:\n",
    "    print(elementas)"
   ]
  },
  {
   "cell_type": "markdown",
   "metadata": {},
   "source": [
    "## Aibių manipuliavimas\n",
    "Aibes galima transformuoti į kitus duomenų struktūrų tipus, tokius kaip sąrašai ir tuplai, bei atvirkščiai. \n",
    "\n",
    "Pažiūrėkime į kai kuriuos pavyzdžius:"
   ]
  },
  {
   "cell_type": "code",
   "execution_count": 34,
   "metadata": {},
   "outputs": [
    {
     "name": "stdout",
     "output_type": "stream",
     "text": [
      "mano aibė kaip sąrašas: [1, 2, 3] <class 'list'>\n",
      "mano aibė kaip tuplas: (1, 2, 3) <class 'tuple'>\n",
      "mano sąrašas kaip aibė: {1, 2, 3} <class 'set'>\n",
      "mano tuplė kaip aibė: {1, 2, 3} <class 'set'>\n"
     ]
    }
   ],
   "source": [
    "# Sukuriama aibė\n",
    "mano_aibe = {1, 2, 3}\n",
    "\n",
    "# Konvertuojame aibę į sąrašą\n",
    "print(\"mano aibė kaip sąrašas:\", list(mano_aibe), type(list(mano_aibe)))  # [1, 2, 3] <class 'list'>\n",
    "\n",
    "# Konvertuojame aibę į tuplą\n",
    "print(\"mano aibė kaip tuplas:\", tuple(mano_aibe), type(tuple(mano_aibe)))  # (1, 2, 3) <class 'tuple'>\n",
    "\n",
    "# Konvertuojame sąrašą ir tuplą į aibę\n",
    "mano_sarasas = [1, 2, 3]\n",
    "mano_tuple = (1, 2, 3)\n",
    "\n",
    "print(\"mano sąrašas kaip aibė:\", set(mano_sarasas), type(set(mano_sarasas)))  # {1, 2, 3} <class 'set'>\n",
    "print(\"mano tuplė kaip aibė:\", set(mano_tuple), type(set(mano_tuple)))  # {1, 2, 3} <class 'set'>"
   ]
  },
  {
   "cell_type": "code",
   "execution_count": null,
   "metadata": {},
   "outputs": [],
   "source": [
    "sventes = {\n",
    "    'Kaledos': 'Gruodzio 25-26',\n",
    "    'Nauji Metai': 'Sausio 1',\n",
    "    'Jonines': 'Birzelio 24',\n",
    "}\n",
    "\n",
    "print(set(sventes.keys()))\n",
    "print(set(sventes.values()))"
   ]
  },
  {
   "cell_type": "markdown",
   "metadata": {},
   "source": [
    "# `Papildomas uždavinys`\n",
    "\n",
    "**Instrukcijos**:\n",
    "\n",
    "1. Pasinaudodami paskutine aibe, kurią sukūrėte, pakelkite kvadratu visus jos skaičius.\n",
    "1. Spausdinkite rezultatą."
   ]
  },
  {
   "cell_type": "code",
   "execution_count": 63,
   "metadata": {},
   "outputs": [
    {
     "name": "stdout",
     "output_type": "stream",
     "text": [
      "Aibe, kaip sarasas: [1, 2, 3, 4] <class 'list'>\n",
      "Aibe, kaip tuplas: [1, 2, 3, 4] <class 'list'>\n",
      "Sarasas, kaip aibe: {1, 2, 3, 4} <class 'set'>\n",
      "Tuple, kaip aibe: {1, 2, 3, 4} <class 'set'>\n"
     ]
    }
   ],
   "source": [
    "# jusu kodo vieta\n",
    "aibe = {1, 2, 3, 4}\n",
    "print(\"Aibe, kaip sarasas:\", list(aibe), type(list(aibe)))\n",
    "print(\"Aibe, kaip tuplas:\", list(aibe), type(list(aibe)))\n",
    "mano_sarasas = [1, 2, 3, 4]\n",
    "mano_tuple = (1, 2, 3, 4)\n",
    "print(\"Sarasas, kaip aibe:\", set(mano_sarasas), type(set(mano_sarasas)))\n",
    "print(\"Tuple, kaip aibe:\", set(mano_tuple), type(set(mano_tuple)))\n",
    "\n",
    "\n",
    " \n"
   ]
  },
  {
   "cell_type": "code",
   "execution_count": 67,
   "metadata": {},
   "outputs": [
    {
     "name": "stdout",
     "output_type": "stream",
     "text": [
      "reiksmes kvadratu: {16, 1, 4, 9}\n"
     ]
    }
   ],
   "source": [
    "aibe2 = {1, 2, 3, 4, 2}\n",
    "aibe_k = set()\n",
    "for reiksmes_k in aibe2:\n",
    "    aibe_k.add(reiksmes_k ** 2)\n",
    "print(\"reiksmes kvadratu:\", aibe_k)\n"
   ]
  },
  {
   "cell_type": "code",
   "execution_count": null,
   "metadata": {},
   "outputs": [],
   "source": []
  },
  {
   "cell_type": "code",
   "execution_count": 68,
   "metadata": {},
   "outputs": [
    {
     "name": "stdout",
     "output_type": "stream",
     "text": [
      "reiksmes kvadratu: {1}\n",
      "reiksmes kvadratu: {1, 4}\n",
      "reiksmes kvadratu: {1, 4, 9}\n",
      "reiksmes kvadratu: {16, 1, 4, 9}\n"
     ]
    }
   ],
   "source": [
    "aibe2 = {1, 2, 3, 4, 2}\n",
    "aibe_k = set()\n",
    "for reiksmes_k in aibe2:\n",
    "    aibe_k.add(reiksmes_k ** 2)\n",
    "    print(\"reiksmes kvadratu:\", aibe_k)"
   ]
  },
  {
   "cell_type": "code",
   "execution_count": 6,
   "metadata": {},
   "outputs": [
    {
     "name": "stdout",
     "output_type": "stream",
     "text": [
      "[36412120058]\n"
     ]
    }
   ],
   "source": [
    "while true:\n",
    "    ak = input(\"Iveskite AK:   \")\n",
    "    if ak == \"0\":\n",
    "        break\n",
    "    if not ak.isnumeric() and len(int(ak)) !=11:\n",
    "        print(\"neteisingas, turi buti 11 skaiciu\")\n",
    "        continue\n",
    "    menuo = int(ak[3:5])\n",
    "    if menuo <1 and menuo > 12:\n",
    "        print(\"nateisingas, turi buti ne daugiau nei 12\")\n",
    "        continue \n",
    "    diena = int(ak[5:7])\n",
    "    if diena < 0 and diena > 31:\n",
    "        print(\"neteisingas, turi buti ne daugiau nei 31\")\n",
    "        continue\n",
    "    paskutinis = ak[10]\n",
    "    kontrolinis = 0\n",
    "    daugikliai = \"1234567891\"\n",
    "    kiti_daugikliai = \"3456789123\"\n",
    "    for daugiklio_nr, skaitmuo in enumerate(ak[10]):\n",
    "        kontrolinis += int(skaitmuo) * int(daugikliai[daugiklio_nr])\n",
    "    print(kontrolinis)\n",
    "    if kontrolinis %11 ==10:\n",
    "        kontrolinis == 0\n",
    "        for daugiklio_nr, skaitmuo in enumerate(ak[10]):\n",
    "            kontrolinis += int(skaitmuo) * int(kiti_daugikliai[daugiklio_nr])\n",
    "        print(\"kitas_kontrolinis\", kontrolinis, kontrolinis % 11) \n",
    "    tikrinimas = kontrolinis % 11\n",
    "    if tikrinimas == 10:\n",
    "        tikrinimas = 0\n",
    "    paskutinis = int(ak[10])\n",
    "    if paskutinis != tikrinimas:\n",
    "        print(\"neteisingas: paskutinis skaicius klaidingas\")\n",
    "        continue\n",
    "    print(\"TEISINGAS\")\n",
    "\n",
    "\n",
    "\n",
    "\n",
    "\n",
    "\n",
    "\n"
   ]
  },
  {
   "cell_type": "markdown",
   "metadata": {},
   "source": [
    "### Daugiau apie aibes:\n",
    "[Kodėl aibės yra tokios](https://www.youtube.com/watch?v=Gp-qih4T9tA),\n",
    "\n",
    "[Visi aibių metodai](https://www.w3schools.com/python/python_sets_methods.asp),\n",
    "\n",
    "[Oficiali Python dokumentacija](https://docs.python.org/3/tutorial/datastructures.html#sets). \n",
    "- Net jei iš karto nesuprasite visų nuansų, tai ateityje bus esminė informacija."
   ]
  }
 ],
 "metadata": {
  "kernelspec": {
   "display_name": "venv",
   "language": "python",
   "name": "python3"
  },
  "language_info": {
   "codemirror_mode": {
    "name": "ipython",
    "version": 3
   },
   "file_extension": ".py",
   "mimetype": "text/x-python",
   "name": "python",
   "nbconvert_exporter": "python",
   "pygments_lexer": "ipython3",
   "version": "3.11.7"
  }
 },
 "nbformat": 4,
 "nbformat_minor": 2
}

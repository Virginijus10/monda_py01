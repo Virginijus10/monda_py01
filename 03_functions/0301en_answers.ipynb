{
 "cells": [
  {
   "cell_type": "markdown",
   "metadata": {},
   "source": [
    "# `Quick assignment 1: Function Definition Structure`"
   ]
  },
  {
   "cell_type": "code",
   "execution_count": null,
   "metadata": {},
   "outputs": [],
   "source": [
    "# Function Definition\n",
    "def calculate_area(length, width):\n",
    "    \"\"\"This function calculates the area of a rectangle.\"\"\"\n",
    "    area = length * width\n",
    "    print(f\"Area of the rectangle: {area} square units\")\n",
    "\n",
    "# Example Usage\n",
    "calculate_area(5, 8)"
   ]
  },
  {
   "cell_type": "markdown",
   "metadata": {},
   "source": [
    "# `Quick Assignment 2: Check if Positive`"
   ]
  },
  {
   "cell_type": "code",
   "execution_count": null,
   "metadata": {},
   "outputs": [],
   "source": [
    "def is_positive(number):\n",
    "    if type(number) == int or type(number) == float:\n",
    "        if number > 0:\n",
    "            print(number, \"is positive.\")\n",
    "        else:\n",
    "            print(number, \"is not positive.\")\n",
    "    else:\n",
    "        print(number, \"is not a number\")\n",
    "\n",
    "is_positive('4')\n",
    "is_positive(777)\n",
    "is_positive(-42)"
   ]
  },
  {
   "cell_type": "markdown",
   "metadata": {},
   "source": [
    "# `Quick Assignment 3: Check if Greater Than`"
   ]
  },
  {
   "cell_type": "code",
   "execution_count": null,
   "metadata": {},
   "outputs": [],
   "source": [
    "def is_greater_than(number, limit):\n",
    "    if number > limit:\n",
    "        print(number, \"is greater than\", limit)\n",
    "    elif number == limit:\n",
    "        print(number, \"equals\", limit)\n",
    "    else:\n",
    "        print(number, \"is not greater than\", limit)\n",
    "\n",
    "is_greater_than(10, 10)\n",
    "is_greater_than(42, 10)\n",
    "is_greater_than(7, 10)"
   ]
  },
  {
   "cell_type": "code",
   "execution_count": 10,
   "metadata": {},
   "outputs": [
    {
     "name": "stdout",
     "output_type": "stream",
     "text": [
      "Pajamos pridėtos: +1000\n"
     ]
    }
   ],
   "source": [
    "pelno_nuostolio_ataskaita = []\n",
    "\n",
    "def prideti_pajamas(suma):\n",
    "    if suma > 0:\n",
    "        pelno_nuostolio_ataskaita.append(('Pajamos', suma))\n",
    "        print(f\"Pajamos pridėtos: +{suma}\")\n",
    "    else:\n",
    "        print(\"Netinkama suma pajamoms\")\n",
    "\n",
    "prideti_pajamas(1000)"
   ]
  },
  {
   "cell_type": "code",
   "execution_count": 11,
   "metadata": {},
   "outputs": [],
   "source": [
    "def atimti_islaidas(islaidos):\n",
    "     if islaidos >0:\n",
    "        pelno_nuostolio_ataskaita.append(('Išlaidos', islaidos))\n",
    "        print(f\"Išlaidos atimtos: {atimti_islaidas}\")\n",
    "     else:\n",
    "         print(f\"Nera islaidu\")"
   ]
  },
  {
   "cell_type": "code",
   "execution_count": 1,
   "metadata": {},
   "outputs": [],
   "source": [
    "def pajamu_islaidu_suvestine():\n",
    "    balansas = sum(sumos for (tipas, sumos) in pelno_nuostolio_ataskaita)\n",
    "    print(f\"Biudžeto balansas: {balansas}\")\n"
   ]
  }
 ],
 "metadata": {
  "kernelspec": {
   "display_name": "Python 3",
   "language": "python",
   "name": "python3"
  },
  "language_info": {
   "codemirror_mode": {
    "name": "ipython",
    "version": 3
   },
   "file_extension": ".py",
   "mimetype": "text/x-python",
   "name": "python",
   "nbconvert_exporter": "python",
   "pygments_lexer": "ipython3",
   "version": "3.11.7"
  },
  "orig_nbformat": 4
 },
 "nbformat": 4,
 "nbformat_minor": 2
}

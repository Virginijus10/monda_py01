{
 "cells": [
  {
   "cell_type": "markdown",
   "metadata": {},
   "source": [
    "# Programavimo stilius"
   ]
  },
  {
   "cell_type": "markdown",
   "metadata": {},
   "source": [
    "## Naudokite 4 tarpus atitraukimui, o ne tabuliaciją"
   ]
  },
  {
   "cell_type": "markdown",
   "metadata": {},
   "source": [
    "Gerai:"
   ]
  },
  {
   "cell_type": "code",
   "execution_count": null,
   "metadata": {},
   "outputs": [],
   "source": [
    "def suma(a, b):\n",
    "    return a + b"
   ]
  },
  {
   "cell_type": "markdown",
   "metadata": {},
   "source": [
    "Blogai:"
   ]
  },
  {
   "cell_type": "code",
   "execution_count": null,
   "metadata": {},
   "outputs": [],
   "source": [
    "def suma(a, b):\n",
    "⇥return a + b"
   ]
  },
  {
   "cell_type": "markdown",
   "metadata": {},
   "source": [
    "## Eilutės neturi būti ilgesnės nei 79 simboliai"
   ]
  },
  {
   "cell_type": "markdown",
   "metadata": {},
   "source": [
    "Gerai:"
   ]
  },
  {
   "cell_type": "code",
   "execution_count": null,
   "metadata": {},
   "outputs": [],
   "source": [
    "print(\"Ši eilutė yra mažesnė nei 80 simbolių, todėl ji yra \"\n",
    "      \"lengvai skaitoma.\")"
   ]
  },
  {
   "cell_type": "markdown",
   "metadata": {},
   "source": [
    "Blogai:"
   ]
  },
  {
   "cell_type": "code",
   "execution_count": null,
   "metadata": {},
   "outputs": [],
   "source": [
    "print(\"Ši eilutė yra per ilga ir viršija 80 simbolių, todėl ji yra sunkiau skaitoma ir gali sukelti problemų su mažesniais ekranais.\")"
   ]
  },
  {
   "cell_type": "markdown",
   "metadata": {},
   "source": [
    "## Naudokite tuščias eilutes funkcijoms ir klasėms atskirti, taip pat didesniems kodo blokams funkcijų viduje"
   ]
  },
  {
   "cell_type": "markdown",
   "metadata": {},
   "source": [
    "Gerai:"
   ]
  },
  {
   "cell_type": "code",
   "execution_count": null,
   "metadata": {},
   "outputs": [],
   "source": [
    "def suma(a, b):\n",
    "    return a + b\n",
    "\n",
    "def skirtumas(a, b):\n",
    "    return a - b"
   ]
  },
  {
   "cell_type": "markdown",
   "metadata": {},
   "source": [
    "Blogai:"
   ]
  },
  {
   "cell_type": "code",
   "execution_count": null,
   "metadata": {},
   "outputs": [],
   "source": [
    "def suma(a, b):\n",
    "    return a + b\n",
    "def skirtumas(a, b):\n",
    "    return a - b"
   ]
  },
  {
   "cell_type": "markdown",
   "metadata": {},
   "source": [
    "## Komentarus rašykite atskirose eilutėse"
   ]
  },
  {
   "cell_type": "markdown",
   "metadata": {},
   "source": [
    "Gerai:"
   ]
  },
  {
   "cell_type": "code",
   "execution_count": null,
   "metadata": {},
   "outputs": [],
   "source": [
    "# Apskaičiuoti sumą\n",
    "rezultatas = suma(a, b)"
   ]
  },
  {
   "cell_type": "markdown",
   "metadata": {},
   "source": [
    "Blogai:"
   ]
  },
  {
   "cell_type": "code",
   "execution_count": null,
   "metadata": {},
   "outputs": [],
   "source": [
    "rezultatas = suma(a, b)  # Apskaičiuoti sumą"
   ]
  },
  {
   "cell_type": "markdown",
   "metadata": {},
   "source": [
    "## Naudokite docstrings"
   ]
  },
  {
   "cell_type": "markdown",
   "metadata": {},
   "source": [
    "Gerai:"
   ]
  },
  {
   "cell_type": "code",
   "execution_count": null,
   "metadata": {},
   "outputs": [],
   "source": [
    "def suma(a, b):\n",
    "    \"\"\"\n",
    "    Grąžina dviejų skaičių sumą.\n",
    "    \n",
    "    Parametrai:\n",
    "    a -- pirmasis skaičius\n",
    "    b -- antrasis skaičius\n",
    "    \"\"\"\n",
    "    return a + b"
   ]
  },
  {
   "cell_type": "markdown",
   "metadata": {},
   "source": [
    "## Naudokite tarpus aplink operatorius ir po kablelių"
   ]
  },
  {
   "cell_type": "markdown",
   "metadata": {},
   "source": [
    "Gerai:"
   ]
  },
  {
   "cell_type": "code",
   "execution_count": null,
   "metadata": {},
   "outputs": [],
   "source": [
    "a = f(1, 2) + g(3, 4)"
   ]
  },
  {
   "cell_type": "markdown",
   "metadata": {},
   "source": [
    "Blogai:"
   ]
  },
  {
   "cell_type": "code",
   "execution_count": null,
   "metadata": {},
   "outputs": [],
   "source": [
    "a=f(1,2)+g(3,4)"
   ]
  },
  {
   "cell_type": "markdown",
   "metadata": {},
   "source": [
    "## Pavadinkite klases ir funkcijas nuosekliai"
   ]
  },
  {
   "cell_type": "markdown",
   "metadata": {},
   "source": [
    "Paprastai klasėms naudojama 'UpperCamelCase', o funkcijoms ir metodams - mažosiomis_raidelemis_su_pabraukimais (lowercase_with_underscores). Pirmajam metodo argumentui visada naudokite pavadinimą \"self\"."
   ]
  },
  {
   "cell_type": "markdown",
   "metadata": {},
   "source": [
    "Gerai:"
   ]
  },
  {
   "cell_type": "code",
   "execution_count": null,
   "metadata": {},
   "outputs": [],
   "source": [
    "class Automobilis:\n",
    "    def vaziuoti(self, atstumas):\n",
    "        pass"
   ]
  },
  {
   "cell_type": "markdown",
   "metadata": {},
   "source": [
    "Blogai:"
   ]
  },
  {
   "cell_type": "code",
   "execution_count": null,
   "metadata": {},
   "outputs": [],
   "source": [
    "class automobilis:\n",
    "    def Vaziuoti(self,Atstumas):\n",
    "        pass"
   ]
  },
  {
   "cell_type": "markdown",
   "metadata": {},
   "source": [
    "## Naudokite UTF-8 arba ASCII koduotę"
   ]
  },
  {
   "cell_type": "markdown",
   "metadata": {},
   "source": [
    "💡 UTF-8 (Unicode Transformation Format - 8-bit) yra labai populiarus Unicode koduotės standartas, kuris gali užkoduoti visą Universal Character Set (UCS) simbolių rinkinį. Jis yra suderinamas su ASCII ir daugelyje situacijų pakeitė šį senesnį standartą. Pagrindinis UTF-8 pranašumas yra tas, kad jis gali užkoduoti ir ne-ASCII simbolius, tokius kaip diakritiką turinčius rašmenis, hieroglifus, simbolius iš skirtingų rašto sistemų ir t.t. UTF-8 yra lankstus ir efektyvus kodavimo būdas, naudojamas daugelyje interneto puslapių ir programinės įrangos.\n",
    "\n",
    "💡 ASCII (American Standard Code for Information Interchange) yra senesnis koduotės standartas, sukurtas JAV. Jis apima tik 128 simbolius, įskaitant anglų abėcėlės raides (didžiąsias ir mažąsias), skaitmenis, kai kuriuos skyrybos ženklus ir kontrolės simbolius. ASCII buvo plačiai naudojamas ankstesniuose kompiuteriuose ir programinėje įrangoje, tačiau jo ribotas simbolių rinkinys apribojo jo tinkamumą tarptautinėje aplinkoje.\n",
    "\n",
    "Dabar programavime dažniausiai naudojamas UTF-8 koduotės standartas, nes jis apima didelį simbolių skaičių ir yra suderinamas su ASCII. Tačiau kai kuriais atvejais (ypač kai tekstas yra tik anglų kalba) galima naudoti ir ASCII koduotę."
   ]
  },
  {
   "cell_type": "markdown",
   "metadata": {},
   "source": [
    "## Nenaudokite ne-ASCII simbolių identifikatoriuose"
   ]
  },
  {
   "cell_type": "markdown",
   "metadata": {},
   "source": [
    "Gerai:"
   ]
  },
  {
   "cell_type": "code",
   "execution_count": null,
   "metadata": {},
   "outputs": [],
   "source": [
    "def sveikas_pasauli():\n",
    "    print(\"Labas pasauli!\")"
   ]
  },
  {
   "cell_type": "markdown",
   "metadata": {},
   "source": [
    "Blogai:"
   ]
  },
  {
   "cell_type": "code",
   "execution_count": null,
   "metadata": {},
   "outputs": [],
   "source": [
    "def sveikas_пасаули():\n",
    "    print(\"Labas pasauli!\")"
   ]
  },
  {
   "cell_type": "code",
   "execution_count": null,
   "metadata": {},
   "outputs": [],
   "source": [
    "\n",
    "def remove_product(self, category, item, quantity=None):\n",
    "        if category in self.fridge_content:\n",
    "            if any(product[0] == item for product in self.fridge_content[category]):\n",
    "                updated_items = []\n",
    "                for product_name, product_quantity in self.fridge_content[category]:\n",
    "                    if product_name == item:\n",
    "                        if quantity is None or quantity >= product_quantity:\n",
    "                            # Remove the entire item if quantity is not given or greater/equal to current quantity\n",
    "                            continue\n",
    "                        else:\n",
    "                            updated_items.append((product_name, product_quantity - quantity))\n",
    "                    else:\n",
    "                        updated_items.append((product_name, product_quantity))\n",
    "                self.fridge_content[category] = updated_items\n",
    "                # Update JSON file after removing product\n",
    "                self._update_json_file()\n",
    "                if quantity is None:\n",
    "                    # Print statement for removing entire item\n",
    "                    print(f\"Removed '{item}' entirely from '{category}'\")\n",
    "                else:\n",
    "                    # Print statement for removing product\n",
    "                    print(f\"Removed {quantity} {'units' if quantity > 1 else 'unit'} of '{item}' from '{category}'\")\n",
    "            else:\n",
    "                print(f\"Product '{item}' does not exist in '{category}'. Removal failed.\")\n",
    "        else:\n",
    "            print(f\"Category '{category}' does not exist. Removal failed.\")\n",
    "            "
   ]
  },
  {
   "cell_type": "code",
   "execution_count": 16,
   "metadata": {},
   "outputs": [
    {
     "name": "stdout",
     "output_type": "stream",
     "text": [
      "[3, 9, -3, -5, 18, 21]\n"
     ]
    }
   ],
   "source": [
    "data = [1, 3, -3, -5, 6, 7]\n",
    "for i in range(len(data)):\n",
    "    if data[i] >0:\n",
    "        data[i] = data[i] *3\n",
    "\n",
    "print(data)\n",
    "\n",
    "\n"
   ]
  },
  {
   "cell_type": "code",
   "execution_count": 24,
   "metadata": {},
   "outputs": [
    {
     "name": "stdout",
     "output_type": "stream",
     "text": [
      "[1, 3, -103, -105, 6, 7]\n"
     ]
    }
   ],
   "source": [
    "data = [1, 3, -3, -5, 6, 7]\n",
    "for idx, numeris in enumerate(data):\n",
    "    if numeris < 0:\n",
    "        data[idx] = data[idx] +100*(-1)\n",
    "\n",
    "print(data)"
   ]
  }
 ],
 "metadata": {
  "kernelspec": {
   "display_name": "venv",
   "language": "python",
   "name": "python3"
  },
  "language_info": {
   "codemirror_mode": {
    "name": "ipython",
    "version": 3
   },
   "file_extension": ".py",
   "mimetype": "text/x-python",
   "name": "python",
   "nbconvert_exporter": "python",
   "pygments_lexer": "ipython3",
   "version": "3.11.7"
  }
 },
 "nbformat": 4,
 "nbformat_minor": 2
}

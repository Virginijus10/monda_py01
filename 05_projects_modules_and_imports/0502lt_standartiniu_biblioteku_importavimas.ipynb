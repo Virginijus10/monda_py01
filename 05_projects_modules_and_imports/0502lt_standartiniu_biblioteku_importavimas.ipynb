{
 "cells": [
  {
   "cell_type": "markdown",
   "metadata": {},
   "source": [
    "# Standartinių bibliotekų importavimas"
   ]
  },
  {
   "cell_type": "markdown",
   "metadata": {},
   "source": [
    "## import this - \"The Zen of Python\" (Python'o dvasia)"
   ]
  },
  {
   "cell_type": "markdown",
   "metadata": {},
   "source": [
    "\"The Zen of Python\" (liet. „Python'o Dvasia“) yra Python programavimo kalbos filosofiją atspindinti poema, kurią sukūrė Tim Peters. Norėdami ją pamatyti, įvykdykite šią komandą:"
   ]
  },
  {
   "cell_type": "code",
   "execution_count": null,
   "metadata": {},
   "outputs": [],
   "source": [
    "import this"
   ]
  },
  {
   "cell_type": "markdown",
   "metadata": {},
   "source": [
    "Poemos pagrindiniai principai pabrėžia:\n",
    "\n",
    "- Aiškumas yra geriau už dviprasmiškumą.\n",
    "- Paprastumas viršija komplikacijas.\n",
    "- \"Dvigubai geriau\" nėra toks geras kaip \"gerai pakanka\".\n",
    "- Praktika yra svarbesnė už teoriją."
   ]
  },
  {
   "cell_type": "markdown",
   "metadata": {},
   "source": [
    "## `import random` - atsitiktinių skaičių generatoriaus funkcijos"
   ]
  },
  {
   "cell_type": "code",
   "execution_count": 1,
   "metadata": {},
   "outputs": [
    {
     "name": "stdout",
     "output_type": "stream",
     "text": [
      "0.2125057495185172\n",
      "6\n",
      "a\n"
     ]
    }
   ],
   "source": [
    "import random\n",
    "\n",
    "# generuoja atsitiktinį (float) skaičių tarp 0.0 ir 1.0.\n",
    "print(random.random())\n",
    "\n",
    "# generuoja atsitiktinį sveikąjį skaičių (int) tarp 1 ir 10 imtinai.\n",
    "print(random.randint(1, 10))\n",
    "\n",
    "# atsitiktinai pasirenka elementą iš sekos, tokių kaip sąrašas.\n",
    "my_list = [\"a\", \"b\", \"c\", \"d\", \"e\"]\n",
    "print(random.choice(my_list))"
   ]
  },
  {
   "cell_type": "markdown",
   "metadata": {},
   "source": [
    "### Greita Užduotis 1: Python Funkcijos Sukūrimas\n",
    "\n",
    "Parašykite Python funkciją pavadinimu `print_and_sort_random_numbers`, kuri atliktų šiuos veiksmus:\n",
    "\n",
    "1. Sugeneruokite 10 atsitiktinių sveikųjų skaičių tarp 1 ir 100.\n",
    "1. Atspausdinkite pradinį atsitiktinių skaičių sąrašą.\n",
    "1. Išrikiuokite sąrašą didėjančia tvarka.\n",
    "1. Atspausdinkite surikiuotą sąrašą."
   ]
  },
  {
   "cell_type": "code",
   "execution_count": 6,
   "metadata": {},
   "outputs": [
    {
     "name": "stdout",
     "output_type": "stream",
     "text": [
      "loterijos nr.:  [15, 6, 99, 56, 28, 86, 97, 91, 2, 99]\n",
      "isrusiuotas [2, 6, 15, 28, 56, 86, 91, 97, 99, 99]\n"
     ]
    }
   ],
   "source": [
    "# jusu kodo vieta\n",
    "import random\n",
    "def print_and_sort_random_numbers():\n",
    "\n",
    "    atsitiktiniai_skaiciai = [random.randint(1, 100) for _ in range(10)]\n",
    "    print(\"loterijos nr.: \", atsitiktiniai_skaiciai)\n",
    "\n",
    "    atsitiktiniai_skaiciai.sort()\n",
    "\n",
    "    print(\"isrusiuotas\", atsitiktiniai_skaiciai)\n",
    "\n",
    "print_and_sort_random_numbers()\n",
    "\n",
    "\n"
   ]
  },
  {
   "cell_type": "markdown",
   "metadata": {},
   "source": [
    "## `import math` - papildomos matematinės funkcijos"
   ]
  },
  {
   "cell_type": "markdown",
   "metadata": {},
   "source": [
    "Python'o `math` biblioteka suteikia prieigą prie papildomų matematinių funkcijų ir konstantų, tokių kaip π (pi) ir e. Štai keletas pavyzdžių:"
   ]
  },
  {
   "cell_type": "code",
   "execution_count": 7,
   "metadata": {},
   "outputs": [
    {
     "name": "stdout",
     "output_type": "stream",
     "text": [
      "1.0\n",
      "120\n",
      "3.0\n"
     ]
    }
   ],
   "source": [
    "import math\n",
    "\n",
    "# funkcija apskaičiuoja sinuso reikšmę\n",
    "print(math.sin(math.pi / 2))\n",
    "\n",
    "# funkcija apskaičiuoja faktorialą\n",
    "print(math.factorial(5))\n",
    "\n",
    "# funkcija apskaičiuoja kvadratinę šaknį\n",
    "print(math.sqrt(9))"
   ]
  },
  {
   "cell_type": "markdown",
   "metadata": {},
   "source": [
    "### Greita užduotis 2: Kauliukų žaidimas\n",
    "\n",
    "Sukurkite kauliukų žaidimą, kuris:\n",
    "\n",
    "- Sugeneruotų tris atsitiktinius skaičius nuo 1 iki 6\n",
    "- Jei vienas iš šių skaičių yra 5, atspausdinti „Pralaimėjai...“\n",
    "- Kitu atveju atspausdinti „Laimėjai!“\n",
    "- Patarimas: Naudokite ciklą"
   ]
  },
  {
   "cell_type": "code",
   "execution_count": 16,
   "metadata": {},
   "outputs": [
    {
     "name": "stdout",
     "output_type": "stream",
     "text": [
      "Sugeneruojami 3 skaiciai\n",
      "Jei yra skaicius 5 - jus pralaimejote\n",
      "jus laimejote\n"
     ]
    }
   ],
   "source": [
    "# jusu kodo vieta\n",
    "import random\n",
    "\n",
    "print(\"Sugeneruojami 3 skaiciai\")\n",
    "print(\"Jei yra skaicius 5 - jus pralaimejote\")\n",
    "\n",
    "for bandymas in range(3):\n",
    "    numeris = random.randint(1,6)\n",
    "    if numeris == 5:\n",
    "        print(\"jus pralaimejote\")\n",
    "                                        #nera BREAK, todel neveikia\n",
    "else:\n",
    "    print(\"jus laimejote\")\n",
    "\n"
   ]
  },
  {
   "cell_type": "code",
   "execution_count": null,
   "metadata": {},
   "outputs": [],
   "source": [
    "import random\n",
    "\n",
    "print(\"Sugeneruojami 3 skaiciai\")\n",
    "print(\"Jei yra skaicius 5 - jus pralaimejote\")\n",
    "\n",
    "atsakymas = bandymas for bandymas in range(3):\n",
    "    "
   ]
  },
  {
   "cell_type": "code",
   "execution_count": 14,
   "metadata": {},
   "outputs": [
    {
     "name": "stdout",
     "output_type": "stream",
     "text": [
      "Sugeneruojami 3 skaiciai\n",
      "Jei yra skaicius 5 - jus pralaimejote\n",
      "6\n",
      "6\n",
      "4\n",
      "jus laimejote\n"
     ]
    }
   ],
   "source": [
    "import random\n",
    "\n",
    "print(\"Sugeneruojami 3 skaiciai\")\n",
    "print(\"Jei yra skaicius 5 - jus pralaimejote\")\n",
    "\n",
    "for bandymas in range(3):\n",
    "    numeris = random.randint(1, 6)\n",
    "    print(numeris)\n",
    "    if numeris == 5:\n",
    "        print(\"jus pralaimejote\")\n",
    "        break                                   #su BREAK\n",
    "\n",
    "else:\n",
    "    print(\"jus laimejote\")"
   ]
  },
  {
   "cell_type": "markdown",
   "metadata": {},
   "source": [
    "## `import calendar` - kalendoriaus funkcijos"
   ]
  },
  {
   "cell_type": "markdown",
   "metadata": {},
   "source": [
    "Python'o `calendar` biblioteka suteikia galimybes dirbti su kalendoriais ir atlikti tokias operacijas kaip keliamųjų metų tikrinimą arba savaitės dienos nustatymą pagal datą. Štai keletas pavyzdžių:"
   ]
  },
  {
   "cell_type": "code",
   "execution_count": null,
   "metadata": {},
   "outputs": [],
   "source": [
    "import calendar\n",
    "\n",
    "# Tikrinti, ar metai yra keliamieji\n",
    "print(calendar.isleap(2023))\n",
    "\n",
    "# Gaukite savaitės dienos pavadinimą pagal skaičių\n",
    "print(calendar.day_name[1]) # 'Tuesday'\n",
    "\n",
    "# Gaukite mėnesio dienų skaičių\n",
    "print(calendar.monthrange(2023, 4)) # (5, 30) - pirmoji balandžio diena yra šeštadienis (5), o balandžio mėnesyje yra 30 dienų\n",
    "\n",
    "# Atspausdinti mėnesio kalendorių\n",
    "print(calendar.month(2023, 4))"
   ]
  },
  {
   "cell_type": "markdown",
   "metadata": {},
   "source": [
    "`calendar` biblioteka turi daugiau funkcijų ir savybių, kurios padės jums dirbti su datomis ir laiku. Šie pavyzdžiai yra tik pradžia. Galite rasti daugiau informacijos apie `calendar` biblioteką [Python dokumentacijoje](https://docs.python.org/3/library/calendar.html)."
   ]
  },
  {
   "cell_type": "markdown",
   "metadata": {},
   "source": [
    "### Greita užduotis 3: `calendar` bibliotekos naudojimas"
   ]
  },
  {
   "cell_type": "markdown",
   "metadata": {},
   "source": [
    "Sukurkite Python funkciją, kuri vadinasi `print_month_calendar`.\n",
    "\n",
    "- Funkcija turėtų priimti du parametrus: metai ir menesis.\n",
    "- Funkcijos viduje, naudodami calendar modulį, sugeneruokite ir atspausdinkite nurodyto mėnesio kalendorių.\n",
    "- Apskaičiuokite ir atspausdinkite, kiek yra savaitgalio dienų (šeštadienių ir sekmadienių) nurodytame mėnesyje."
   ]
  },
  {
   "cell_type": "code",
   "execution_count": 25,
   "metadata": {},
   "outputs": [
    {
     "name": "stdout",
     "output_type": "stream",
     "text": [
      "     March 2024\n",
      "Mo Tu We Th Fr Sa Su\n",
      "             1  2  3\n",
      " 4  5  6  7  8  9 10\n",
      "11 12 13 14 15 16 17\n",
      "18 19 20 21 22 23 24\n",
      "25 26 27 28 29 30 31\n",
      "\n",
      "saitgalio dienu skaicius: 10\n"
     ]
    }
   ],
   "source": [
    "# jusu kodo vieta\n",
    "import calendar\n",
    "\n",
    "def print_month_calendar(metai, menuo):\n",
    "    print(calendar.month(metai, menuo))\n",
    "\n",
    "    _, menesio_ilgis = calendar.monthrange(metai, menuo)\n",
    "    \n",
    "    savaitgaliu_dienu_skaicius = 0\n",
    "    for diena in range(1, menesio_ilgis + 1):\n",
    "        savaites_dienos = calendar.weekday(metai, menuo, diena)\n",
    "        if savaites_dienos == 5 or savaites_dienos == 6:\n",
    "            savaitgaliu_dienu_skaicius += 1\n",
    "    \n",
    "    print(f\"saitgalio dienu skaicius: {savaitgaliu_dienu_skaicius}\")\n",
    "\n",
    "print_month_calendar(2024, 3)\n"
   ]
  },
  {
   "cell_type": "code",
   "execution_count": 29,
   "metadata": {},
   "outputs": [
    {
     "name": "stdout",
     "output_type": "stream",
     "text": [
      "['S', 'i', 'Z', 'i', 'e', 'm', 'o', 's', 'D', 'i', 'e', 'n', 'a']\n",
      "['S i Z i e m o s D i e n a']\n"
     ]
    }
   ],
   "source": [
    "stringas = \"SiZiemosDiena\"\n",
    "stringas1 = ([i for i in stringas])\n",
    "print(stringas1)\n",
    "\n",
    "stringas2 = ([\" \".join([i for i in stringas])])\n",
    "print(stringas2)"
   ]
  }
 ],
 "metadata": {
  "kernelspec": {
   "display_name": "venv",
   "language": "python",
   "name": "python3"
  },
  "language_info": {
   "codemirror_mode": {
    "name": "ipython",
    "version": 3
   },
   "file_extension": ".py",
   "mimetype": "text/x-python",
   "name": "python",
   "nbconvert_exporter": "python",
   "pygments_lexer": "ipython3",
   "version": "3.11.7"
  }
 },
 "nbformat": 4,
 "nbformat_minor": 2
}

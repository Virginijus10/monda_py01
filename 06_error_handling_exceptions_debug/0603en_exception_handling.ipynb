{
 "cells": [
  {
   "cell_type": "markdown",
   "metadata": {},
   "source": [
    "# Exception Handling\n",
    "\n",
    "## Raising Exceptions with `raise`\n",
    "\n",
    "`Exception handling` is an essential programming concept that allows developers to specify that a program has encountered a problem and needs to be terminated. \n",
    "\n",
    "Python provides various exceptions that enable programmers to raise and handle errors later.\n",
    "The `raise` statement allows you to raise an error during the program's execution. It is a simple command that raises an error with a specified message. \n",
    "\n",
    "For example:"
   ]
  },
  {
   "cell_type": "code",
   "execution_count": null,
   "metadata": {},
   "outputs": [],
   "source": [
    "raise ValueError(\"Invalid argument\")  # raise ValueError(\"Invalid argument\")"
   ]
  },
  {
   "cell_type": "markdown",
   "metadata": {},
   "source": [
    "The `raise` command can be used anywhere in the program where error raising is required. You can also raise custom error classes. \n",
    "\n",
    "For instance:"
   ]
  },
  {
   "cell_type": "code",
   "execution_count": null,
   "metadata": {},
   "outputs": [],
   "source": [
    "class MyError(Exception):\n",
    "    pass\n",
    "\n",
    "raise MyError(\"Failed to open the file\")  # __main__.MyError: Failed to open the file"
   ]
  },
  {
   "cell_type": "markdown",
   "metadata": {},
   "source": [
    "Normally, errors are raised within functions and returned via `return` with a message that informs about the error. \n",
    "\n",
    "For example:"
   ]
  },
  {
   "cell_type": "code",
   "execution_count": null,
   "metadata": {},
   "outputs": [],
   "source": [
    "def division(x, y):\n",
    "    if y == 0:\n",
    "        raise ZeroDivisionError(\"Division by zero is not allowed\")\n",
    "    return x / y\n",
    "\n",
    "try:\n",
    "    result = division(10, 0)\n",
    "except ZeroDivisionError as e:\n",
    "    print(e)  # Division by zero is not allowed\n",
    "else:\n",
    "    print(result)"
   ]
  },
  {
   "cell_type": "markdown",
   "metadata": {},
   "source": [
    "# `Quick Assignment 1: Raising Exceptions with raise`\n",
    "\n",
    "**Task**:\n",
    "\n",
    "1. Create a Python program that defines a function. \n",
    "1. In the function, check if a given number is negative. \n",
    "- If it is, raise a custom exception called `NegativeNumberError` with the message \"Number cannot be negative.\" \n",
    "- Use a `try` and `except` block to call the function and handle the custom exception."
   ]
  },
  {
   "cell_type": "code",
   "execution_count": 46,
   "metadata": {},
   "outputs": [
    {
     "name": "stdout",
     "output_type": "stream",
     "text": [
      "skaicius tinkamas\n"
     ]
    }
   ],
   "source": [
    "# Your code here\n",
    "class NegativeNumberError(Exception):\n",
    "    pass\n",
    "\n",
    "def teigiamas_skaicius(skaicius):\n",
    "    if skaicius < 0:\n",
    "            raise NegativeNumberError (\"ivestas neigiamas skaicius\")\n",
    "    \n",
    "try:\n",
    "    teigiamas_skaicius(3)\n",
    "except NegativeNumberError as error:\n",
    "        print(error)\n",
    "else:\n",
    "        print(\"skaicius tinkamas\")\n"
   ]
  },
  {
   "cell_type": "markdown",
   "metadata": {},
   "source": [
    "## Raising Exceptions with `raise Exception`\n",
    "The `raise` command can be used with any error class, such as `Exception`. \n",
    "\n",
    "For example:"
   ]
  },
  {
   "cell_type": "code",
   "execution_count": null,
   "metadata": {},
   "outputs": [],
   "source": [
    "raise Exception('Error message')  # Exception: Error message"
   ]
  },
  {
   "cell_type": "markdown",
   "metadata": {},
   "source": [
    "The previous `ZeroDivisionError` example works with `Exception` \n",
    "\n",
    "as well:"
   ]
  },
  {
   "cell_type": "code",
   "execution_count": null,
   "metadata": {},
   "outputs": [],
   "source": [
    "def division(x, y):\n",
    "    if y == 0:\n",
    "        raise Exception(\"Division by zero is not allowed\")\n",
    "    return x / y\n",
    "\n",
    "try:\n",
    "    result = division(10, 0)\n",
    "except Exception as e:\n",
    "    print(e)  # Division by zero is not allowed\n",
    "else:\n",
    "    print(result)\n"
   ]
  },
  {
   "cell_type": "markdown",
   "metadata": {},
   "source": [
    "It is recommended to use specialized error classes as they can improve error handling and clarity since different error types can be handled differently. \n",
    "- However, if there are no clear use cases, it is better to use the generic `Exception` class. Doing so is safe but not necessarily efficient or convenient if there are many errors that should be handled differently."
   ]
  },
  {
   "cell_type": "markdown",
   "metadata": {},
   "source": [
    "# `Quick Assignment 2: Raising Exceptions with raise Exception`\n",
    "\n",
    "Task:\n",
    "\n",
    "1. Create a Python program that defines a function to perform division. \n",
    "- If the denominator is zero, raise a generic `Exception` with the message \"Division by zero is not allowed.\" \n",
    "- Use a `try` and `except` block to call the function and handle the exception."
   ]
  },
  {
   "cell_type": "code",
   "execution_count": 52,
   "metadata": {},
   "outputs": [
    {
     "name": "stdout",
     "output_type": "stream",
     "text": [
      "3.3333333333333335\n"
     ]
    }
   ],
   "source": [
    "# Your code is here\n",
    "def dalyba(skaicius1, skaicius2):\n",
    "    if skaicius2 == 0:\n",
    "        raise Exception(\"Dalyba is nulio negalima\")\n",
    "    return float(skaicius1 / skaicius2)\n",
    "\n",
    "try:\n",
    "    atsakymas = dalyba(10, 3)\n",
    "\n",
    "except Exception as error:\n",
    "    print(error)\n",
    "else:\n",
    "    print(atsakymas)"
   ]
  },
  {
   "cell_type": "markdown",
   "metadata": {},
   "source": [
    "## Raising Exceptions with `raise ValueError`"
   ]
  },
  {
   "cell_type": "markdown",
   "metadata": {},
   "source": [
    "The `raise ValueError` command is useful when you need to inform about an invalid argument or value. \n",
    "\n",
    "For example:"
   ]
  },
  {
   "cell_type": "code",
   "execution_count": null,
   "metadata": {},
   "outputs": [],
   "source": [
    "def cube_number(number):\n",
    "    if not isinstance(number, int):\n",
    "        raise ValueError(\"The function only works with integers\")\n",
    "    return number ** 3\n",
    "\n",
    "try:\n",
    "    cube = cube_number(1.5)\n",
    "except ValueError as e:\n",
    "    print(e)  # The function only works with integers\n",
    "else:\n",
    "    print(cube)"
   ]
  },
  {
   "cell_type": "markdown",
   "metadata": {},
   "source": [
    "In this context, we discussed exception handling, raising exceptions with `raise`, and the appropriate use of `ValueError` for notifying about invalid arguments or values."
   ]
  },
  {
   "cell_type": "markdown",
   "metadata": {},
   "source": [
    "# `Quick Assignment 3: Raising Exceptions with raise ValueError`\n",
    "\n",
    "Task:\n",
    "\n",
    "1. Write a Python program that defines a function to calculate the square of a number. \n",
    "- If the input is not a number (e.g., a string or another type), raise a `ValueError` with the message \"Input must be a number.\" \n",
    "- Use a `try` and `except` block to call the function and handle the `ValueError`."
   ]
  },
  {
   "cell_type": "code",
   "execution_count": 55,
   "metadata": {},
   "outputs": [
    {
     "name": "stdout",
     "output_type": "stream",
     "text": [
      "klaida ivestas neigiamas skaicius\n"
     ]
    }
   ],
   "source": [
    "# Your code here\n",
    "try:\n",
    "    skaicius = int(input(\"iveskite teigiama skaiciu\"))\n",
    "    if skaicius > 0:\n",
    "        print(f\"ivestas teigiamas skaicius {skaicius}\")\n",
    "    else:\n",
    "        raise ValueError(\"ivestas neigiamas skaicius\")\n",
    "        \n",
    "except ValueError as error:\n",
    "    print(\"klaida\", error)  "
   ]
  },
  {
   "cell_type": "code",
   "execution_count": 44,
   "metadata": {},
   "outputs": [
    {
     "name": "stdout",
     "output_type": "stream",
     "text": [
      "bendrine klaida ivedete nuli\n"
     ]
    }
   ],
   "source": [
    "\n",
    "import math\n",
    "\n",
    "try:\n",
    "    skaicius = float(input(\"iveskite teigiama skaiciu is kurio norite istraukti sakni\"))\n",
    "    \n",
    "    if skaicius == 0:\n",
    "        raise ZeroDivisionError(\"ivedete nuli\")\n",
    "    \n",
    "    atsakymas = math.sqrt(skaicius)\n",
    "    print(f\"atsakymas {skaicius:.2f}\")\n",
    "    \n",
    "except TypeError as error:\n",
    "    print(\"ivedete raides\")\n",
    "\n",
    "except ValueError as error:\n",
    "    print(f\"klaida vertes {error}\")\n",
    "\n",
    "except Exception as error:\n",
    "    print(f\"bendrine klaida {error}\")    "
   ]
  }
 ],
 "metadata": {
  "kernelspec": {
   "display_name": "Python 3",
   "language": "python",
   "name": "python3"
  },
  "language_info": {
   "codemirror_mode": {
    "name": "ipython",
    "version": 3
   },
   "file_extension": ".py",
   "mimetype": "text/x-python",
   "name": "python",
   "nbconvert_exporter": "python",
   "pygments_lexer": "ipython3",
   "version": "3.11.7"
  }
 },
 "nbformat": 4,
 "nbformat_minor": 2
}

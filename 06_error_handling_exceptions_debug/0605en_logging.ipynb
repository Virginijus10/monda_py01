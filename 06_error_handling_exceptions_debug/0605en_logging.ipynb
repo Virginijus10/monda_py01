{
 "cells": [
  {
   "cell_type": "markdown",
   "metadata": {},
   "source": [
    "# Logging\n",
    "\n",
    "`Logging` is the process of recording information about events, actions, errors, and more. This information is typically written to a separate `file` or displayed in a `console`. Logging is crucial for monitoring the operation of a program, as it allows tracking what the program is doing and how it responds to specific situations.\n",
    "\n",
    "In the Python programming language, the logging mechanism is implemented using the logging module. This module allows you to customize the logging mechanism to suit your needs, such as specifying the logging level, log message format, log destination, and more.\n",
    "\n",
    "**Standard logger from logging:**"
   ]
  },
  {
   "cell_type": "code",
   "execution_count": null,
   "metadata": {},
   "outputs": [],
   "source": [
    "import logging\n",
    "\n",
    "logging.warning(\"Error!\")"
   ]
  },
  {
   "cell_type": "markdown",
   "metadata": {},
   "source": [
    "# Message Levels - `DEBUG`, `INFO`, `WARNING`, `ERROR`, `CRITICAL`\n",
    "\n",
    "In Python's logging system, there are several predefined message levels:\n",
    "\n",
    "- **DEBUG** - Used when more detailed information about execution is needed. This is the highest message level.\n",
    "- **INFO** - Used to inform about normal execution and code that has already been successfully executed.\n",
    "- **WARNING** - Used when the program encounters a problem that may have negative consequences, but execution continues.\n",
    "- **ERROR** - Used when the program encounters a problem that prevents it from continuing execution.\n",
    "- **CRITICAL** - Used when the program encounters a serious error that prevents it from continuing execution."
   ]
  },
  {
   "cell_type": "code",
   "execution_count": null,
   "metadata": {},
   "outputs": [],
   "source": [
    "import logging\n",
    "\n",
    "logging.basicConfig(level=logging.DEBUG)\n",
    "\n",
    "logging.debug('Debugging message')\n",
    "logging.info('Informational message')\n",
    "logging.warning('Warning message')\n",
    "logging.error('Error message')\n",
    "logging.critical('Critical message')"
   ]
  },
  {
   "cell_type": "markdown",
   "metadata": {},
   "source": [
    "- In this example, we set the logging level to `DEBUG` and then invoke several logger methods that output messages to the console. \n",
    "- Depending on the configured logging level, messages will either be displayed or not:\n",
    "\n",
    "```python\n",
    "DEBUG:root:Debugging message\n",
    "INFO:root:Informational message\n",
    "WARNING:root:Warning message\n",
    "ERROR:root:Error message\n",
    "CRITICAL:root:Critical message\n",
    "```\n"
   ]
  },
  {
   "cell_type": "markdown",
   "metadata": {},
   "source": [
    "# Setting the Minimum Logging Level\n",
    "\n",
    "Setting the minimum logging level is an important component for controlling which logs to receive and which to ignore. This is useful when you want to see only logs of a specific level while ignoring others, thereby increasing the efficiency of log reading.\n",
    "\n",
    "To set the minimum logging level, you need to specify the desired level parameter in the logger's configuration, for example:\n"
   ]
  },
  {
   "cell_type": "code",
   "execution_count": null,
   "metadata": {},
   "outputs": [],
   "source": [
    "import logging\n",
    "\n",
    "# Set the minimum level to INFO\n",
    "logging.basicConfig(level=logging.INFO)"
   ]
  },
  {
   "cell_type": "markdown",
   "metadata": {},
   "source": [
    "When the level is set to INFO, all logs with a level of `INFO` or higher will be displayed.\n",
    " \n",
    "Logs at other levels, such as DEBUG, will not be displayed, for example:"
   ]
  },
  {
   "cell_type": "code",
   "execution_count": null,
   "metadata": {},
   "outputs": [],
   "source": [
    "# Create a logger\n",
    "logger = logging.getLogger(__name__)\n",
    "\n",
    "# Messages\n",
    "logger.debug(\"This message will not be displayed\")\n",
    "logger.info(\"This message will be displayed\")"
   ]
  },
  {
   "cell_type": "markdown",
   "metadata": {},
   "source": [
    "**Result:**\n",
    "\n",
    "```python\n",
    "INFO:__main__:This message will be displayed\n",
    "```"
   ]
  },
  {
   "cell_type": "markdown",
   "metadata": {},
   "source": [
    "To ignore all messages except critical ones, simply set the minimum logging level to CRITICAL:"
   ]
  },
  {
   "cell_type": "code",
   "execution_count": null,
   "metadata": {},
   "outputs": [],
   "source": [
    "import logging\n",
    "\n",
    "# Set the minimum level to CRITICAL\n",
    "logging.basicConfig(level=logging.CRITICAL)\n",
    "\n",
    "# Create a logger\n",
    "logger = logging.getLogger(__name__)\n",
    "\n",
    "# Messages\n",
    "logger.debug(\"This message will not be displayed\")\n",
    "logger.info(\"This message will not be displayed\")\n",
    "logger.warning(\"This message will not be displayed\")\n",
    "logger.error(\"This message will not be displayed\")\n",
    "logger.critical(\"This message will be displayed\")"
   ]
  },
  {
   "cell_type": "markdown",
   "metadata": {},
   "source": [
    "# Logging to a File\n",
    "\n",
    "Logging to a file is a common way to track what's happening in a program, especially when it runs for an extended period or is accessible from multiple machines. This type of logging allows you to store information about the program's operation and analyze it later. \n",
    "\n",
    "**For example:**"
   ]
  },
  {
   "cell_type": "code",
   "execution_count": null,
   "metadata": {},
   "outputs": [],
   "source": [
    "import logging\n",
    "\n",
    "logging.basicConfig(filename='logger.log', encoding=\"UTF-8\", level=logging.INFO)\n",
    "logging.info(\"The program is running\")"
   ]
  },
  {
   "cell_type": "markdown",
   "metadata": {},
   "source": [
    "Each message will be appended to the `logger.log` file, so when you run the program multiple times, you can see the entire program's operation:"
   ]
  },
  {
   "cell_type": "markdown",
   "metadata": {},
   "source": [
    "# Log Message Format\n",
    "\n",
    "Log message format is crucial because it specifies how information will be displayed in the log file. The main elements of log message formatting include: timestamp, log level, message, and additional information.\n",
    "\n",
    "Formatting symbols:\n",
    "\n",
    "- **asctime** - Timestamp indicating when the message was logged.\n",
    "- **name** - Logger's name.\n",
    "- **levelname** - Log level.\n",
    "- **message** - The message to be logged."
   ]
  },
  {
   "cell_type": "code",
   "execution_count": null,
   "metadata": {},
   "outputs": [],
   "source": [
    "import logging\n",
    "\n",
    "logging.basicConfig(\n",
    "    filename='logger.log', \n",
    "    encoding='UTF-8', \n",
    "    level=logging.INFO,\n",
    "    format='%(asctime)s - %(name)s - %(levelname)s - %(message)s'\n",
    ")\n",
    "\n",
    "logging.info('The program is running')"
   ]
  },
  {
   "cell_type": "markdown",
   "metadata": {},
   "source": [
    "For more formatting parameters, refer to the https://docs.python.org/3/library/logging.html#logrecord-attributes."
   ]
  },
  {
   "cell_type": "markdown",
   "metadata": {},
   "source": [
    "# Logging with Objects\n",
    "\n",
    "Log messages can include objects, not just plain text. \n",
    "\n",
    "**For example:**"
   ]
  },
  {
   "cell_type": "code",
   "execution_count": null,
   "metadata": {},
   "outputs": [],
   "source": [
    "import logging\n",
    "\n",
    "logging.basicConfig(filename='logger.log', encoding=\"UTF-8\",\n",
    "                   level=logging.INFO, format='%(asctime)s:%(levelname)s:%(message)s')\n",
    "\n",
    "class Person:\n",
    "    def __init__(self, first_name, last_name):\n",
    "        self.first_name = first_name\n",
    "        self.last_name = last_name\n",
    "        logging.info(f\"Created an employee: {self.first_name} {self.last_name}\")\n",
    "\n",
    "john = Person(\"Jonas\", \"Jonaitis\")\n",
    "peter = Person(\"Petras\", \"Petraitis\")"
   ]
  },
  {
   "cell_type": "markdown",
   "metadata": {},
   "source": [
    "Result:\n",
    "\n",
    "```python\n",
    "2023-11-14 18:34:23,184:INFO:Created an employee: Jonas Jonaitis\n",
    "2023-11-14 18:34:23,185:INFO:Created an employee: Petras Petraitis\n",
    "```"
   ]
  },
  {
   "cell_type": "markdown",
   "metadata": {},
   "source": [
    "# Creating Your Own Logger\n",
    "\n",
    "One of the drawbacks of the standard logger is that it's global and used throughout the entire codebase. This can be problematic in larger projects where you need precise control over where each message should be logged.\n",
    "\n",
    "One way to address this issue is by creating your own logger. This allows you to use different loggers in different parts of the program, each with its own log levels and settings. \n",
    "\n",
    "**For example:**"
   ]
  },
  {
   "cell_type": "code",
   "execution_count": null,
   "metadata": {},
   "outputs": [],
   "source": [
    "import logging\n",
    "\n",
    "def create_logger(logger_name, log_file):\n",
    "    # Create a logger\n",
    "    logger = logging.getLogger(logger_name)\n",
    "    logger.setLevel(logging.DEBUG)\n",
    "    \n",
    "    # Create a log handler to save messages to a file\n",
    "    file_handler = logging.FileHandler(log_file)\n",
    "    file_handler.setLevel(logging.DEBUG)\n",
    "\n",
    "    # Create a formatter to format messages as desired\n",
    "    formatter = logging.Formatter('%(asctime)s - %(name)s - %(levelname)s - %(message)s')\n",
    "    file_handler.setFormatter(formatter)\n",
    "\n",
    "    # Assign the handler to the logger\n",
    "    logger.addHandler(file_handler)\n",
    "\n",
    "    return logger\n",
    "\n",
    "# Example of usage\n",
    "my_logger = create_logger('my_logger', 'new_logger.log')\n",
    "my_logger.debug('Debug message')\n",
    "my_logger.info('Info message')\n",
    "my_logger.warning('Warning message')"
   ]
  },
  {
   "cell_type": "markdown",
   "metadata": {},
   "source": [
    "Result in the newly created `new_logger.log` file:\n",
    "\n",
    "```python\n",
    "2023-11-14 20:42:10,941 - my_logger - DEBUG - Debug message\n",
    "2023-11-14 20:42:10,942 - my_logger - INFO - Info message\n",
    "2023-11-14 20:42:10,942 - my_logger - WARNING - Warning message\n",
    "```\n",
    "\n",
    "- In this example, we created a custom logger and used it to log messages to a specific file with a custom log format."
   ]
  },
  {
   "cell_type": "markdown",
   "metadata": {},
   "source": [
    "# Logging to File and Terminal\n",
    "\n",
    "A logger can direct its output to different channels, such as a file and the terminal. This is useful when you want to see messages directly in the terminal while also saving them to a file for long-term storage. \n",
    "\n",
    "For example:"
   ]
  },
  {
   "cell_type": "code",
   "execution_count": null,
   "metadata": {},
   "outputs": [],
   "source": [
    "import logging\n",
    "\n",
    "def create_logger(logger_name, log_file):\n",
    "    # Create a logger\n",
    "    logger = logging.getLogger(logger_name)\n",
    "    logger.setLevel(logging.DEBUG)\n",
    "    \n",
    "    # Create a log handler to save messages to a file\n",
    "    file_handler = logging.FileHandler(log_file)\n",
    "    file_handler.setLevel(logging.DEBUG)\n",
    "\n",
    "    # Create a formatter to format messages as desired\n",
    "    formatter = logging.Formatter('%(asctime)s - %(name)s - %(levelname)s - %(message)s')\n",
    "    file_handler.setFormatter(formatter)\n",
    "\n",
    "    # Create a console handler to print messages to the terminal\n",
    "    console_handler = logging.StreamHandler()\n",
    "    console_handler.setLevel(logging.DEBUG)\n",
    "    console_handler.setFormatter(formatter)\n",
    "\n",
    "    # Add handlers to the logger\n",
    "    logger.addHandler(file_handler)\n",
    "    logger.addHandler(console_handler)\n",
    "\n",
    "    return logger\n",
    "\n",
    "# Example of usage\n",
    "my_logger = create_logger('my_logger', 'new_logger.log')\n",
    "my_logger.debug('Debug message')\n",
    "my_logger.info('Info message')\n",
    "my_logger.warning('Warning message')"
   ]
  },
  {
   "cell_type": "markdown",
   "metadata": {},
   "source": [
    "```python\n",
    "#Result in the terminal:\n",
    "\n",
    "2023-11-14 20:46:19,370 - my_logger - DEBUG - Debug message\n",
    "2023-11-14 20:46:19,371 - my_logger - INFO - Info message\n",
    "2023-11-14 20:46:19,371 - my_logger - WARNING - Warning message\n",
    "\n",
    "\n",
    "#Result in the 'new_logger.log' file:\n",
    "\n",
    "2023-11-14 20:46:19,370 - my_logger - DEBUG - Debug message\n",
    "2023-11-14 20:46:19,371 - my_logger - INFO - Info message\n",
    "2023-11-14 20:46:19,371 - my_logger - WARNING - Warning message\n",
    "```\n",
    "\n",
    "- In this example, we created a custom logger that logs messages to both a file and the terminal, allowing you to monitor messages directly in the terminal and also store them for later analysis."
   ]
  },
  {
   "cell_type": "markdown",
   "metadata": {},
   "source": [
    "# `First Assignment`\n",
    "\n",
    "### Enhance your refrigerator program:\n",
    "\n",
    "1. Capture all possible user interface errors, especially when entering quantities.\n",
    "1. Implement error handling for refrigerator storage to file/extraction from file using try-except.\n",
    "1. Create a logger that accumulates information in a file about the inserted and removed products with quantities, along with the date and time of the action.\n",
    "\n",
    "# `Second Assignment`\n",
    "### Improve your budget program:\n",
    "\n",
    "1. Catch errors when a user enters incorrect parameters while creating income or expense records.\n",
    "1. Create a logger that logs when a user attempts to spend more money than they have."
   ]
  },
  {
   "cell_type": "code",
   "execution_count": null,
   "metadata": {},
   "outputs": [],
   "source": [
    "import pickle\n",
    "import os\n",
    "import logging\n",
    "\n",
    "logging.basicConfig(\n",
    "    level=logging.INFO,\n",
    "    encoding=\"utf-8\"\n",
    ")\n",
    "\n",
    "class Zmogus:\n",
    "    def __init__(self, vardas, amzius):\n",
    "        self.vardas = vardas\n",
    "        self.amzius = amzius\n",
    "\n",
    "    def __str__(self):\n",
    "        return f\"{self.vardas}, {self.amzius} metų\"\n",
    "\n",
    "\n",
    "if __name__ == \"__main__\":\n",
    "    zmogus = Zmogus(\n",
    "        input(\"vardas: \"),\n",
    "        int(input(\"metai: \")),\n",
    "    )\n",
    "    ZMONES_FILE = 'PTU20_live/zmones.pkl'\n",
    "\n",
    "    if os.path.exists(ZMONES_FILE):\n",
    "        with open(ZMONES_FILE, \"rb\") as zmones_file:\n",
    "            zmones = pickle.load(zmones_file)\n",
    "            zmones.append(zmogus)\n",
    "    else:\n",
    "        zmones = [zmogus]\n",
    "    with open(ZMONES_FILE, \"wb\") as zmones_file:\n",
    "        pickle.dump(zmones, zmones_file)\n",
    "\n",
    "    print('---[ Visi zmones ]---')\n",
    "    for zmogus in zmones:\n",
    "        print(zmogus)"
   ]
  }
 ],
 "metadata": {
  "kernelspec": {
   "display_name": "Python 3",
   "language": "python",
   "name": "python3"
  },
  "language_info": {
   "codemirror_mode": {
    "name": "ipython",
    "version": 3
   },
   "file_extension": ".py",
   "mimetype": "text/x-python",
   "name": "python",
   "nbconvert_exporter": "python",
   "pygments_lexer": "ipython3",
   "version": "3.11.7"
  }
 },
 "nbformat": 4,
 "nbformat_minor": 2
}

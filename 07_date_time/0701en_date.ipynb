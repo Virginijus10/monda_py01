{
 "cells": [
  {
   "cell_type": "markdown",
   "metadata": {},
   "source": [
    "# Time and Date Formatting"
   ]
  },
  {
   "cell_type": "markdown",
   "metadata": {},
   "source": [
    "### `datetime` class"
   ]
  },
  {
   "cell_type": "code",
   "execution_count": 1,
   "metadata": {},
   "outputs": [
    {
     "name": "stdout",
     "output_type": "stream",
     "text": [
      "2023-10-26 18:58:20\n"
     ]
    }
   ],
   "source": [
    "from datetime import datetime\n",
    "\n",
    "now = datetime(2023, 10, 26, 18, 58, 20)\n",
    "\n",
    "print(now)"
   ]
  },
  {
   "cell_type": "markdown",
   "metadata": {},
   "source": [
    "### `datetime.now()` function"
   ]
  },
  {
   "cell_type": "code",
   "execution_count": 2,
   "metadata": {},
   "outputs": [
    {
     "name": "stdout",
     "output_type": "stream",
     "text": [
      "2024-01-16 09:07:42.365688\n"
     ]
    }
   ],
   "source": [
    "from datetime import datetime\n",
    "\n",
    "now = datetime.now()\n",
    "# turns current date into an object\n",
    "\n",
    "print(now) # you will get standart time\n",
    "\n"
   ]
  },
  {
   "cell_type": "markdown",
   "metadata": {},
   "source": [
    "### Quick Assignement 1\n",
    "\n",
    "Write a program that would give a current time, but it would give only minutes and seconds"
   ]
  },
  {
   "cell_type": "code",
   "execution_count": 38,
   "metadata": {},
   "outputs": [
    {
     "name": "stdout",
     "output_type": "stream",
     "text": [
      "08:05\n"
     ]
    }
   ],
   "source": [
    "from datetime import datetime\n",
    "dabar = datetime.now()\n",
    "suformatuoti_stringa = \"%M:%S\"\n",
    "laikas = now.strftime(suformatuoti_stringa)\n",
    "print(laikas)"
   ]
  },
  {
   "cell_type": "markdown",
   "metadata": {},
   "source": [
    "### `date` class"
   ]
  },
  {
   "cell_type": "code",
   "execution_count": 3,
   "metadata": {},
   "outputs": [
    {
     "name": "stdout",
     "output_type": "stream",
     "text": [
      "2023-11-26\n"
     ]
    }
   ],
   "source": [
    "from datetime import date\n",
    "\n",
    "# verys similar to `datetime` but we do not get the time\n",
    "\n",
    "today = date(2023, 11, 26)\n",
    "\n",
    "print(today)"
   ]
  },
  {
   "cell_type": "markdown",
   "metadata": {},
   "source": [
    "### `date.today()` function"
   ]
  },
  {
   "cell_type": "code",
   "execution_count": 4,
   "metadata": {},
   "outputs": [
    {
     "name": "stdout",
     "output_type": "stream",
     "text": [
      "2024-01-16\n"
     ]
    }
   ],
   "source": [
    "from datetime import date\n",
    "\n",
    "# very similar `datetime.now()` function, however, we do not get the time\n",
    "\n",
    "today = date.today()\n",
    "\n",
    "print(today)"
   ]
  },
  {
   "cell_type": "markdown",
   "metadata": {},
   "source": [
    "### `datetime.timedelta` class"
   ]
  },
  {
   "cell_type": "code",
   "execution_count": 5,
   "metadata": {},
   "outputs": [
    {
     "name": "stdout",
     "output_type": "stream",
     "text": [
      "Current time: 2024-01-16 09:08:05.663529\n",
      "After 8 days : 2024-01-24 09:08:05.663529\n",
      "4 hours ago: 2024-01-16 05:08:05.663529\n"
     ]
    }
   ],
   "source": [
    "from datetime import datetime, timedelta\n",
    "\n",
    "now = datetime.now()\n",
    "print(\"Current time:\", now)\n",
    "\n",
    "# We add 8 days to current date\n",
    "after_8_days = now + timedelta(days=8)\n",
    "print(\"After 8 days :\", after_8_days)\n",
    "\n",
    "# We substract 4 hours from the current time\n",
    "four_hours_ago = now - timedelta(hours=4)\n",
    "print(\"4 hours ago:\", four_hours_ago)\n"
   ]
  },
  {
   "cell_type": "markdown",
   "metadata": {},
   "source": [
    "### Math with date and time"
   ]
  },
  {
   "cell_type": "code",
   "execution_count": null,
   "metadata": {},
   "outputs": [],
   "source": [
    "\n",
    "# Difference between two dates\n",
    "date1 = datetime(2023, 10, 17)\n",
    "date2 = datetime(2021, 6, 17)\n",
    "difference = date1 - date2\n",
    "print(\"Difference between dates:\", difference)\n"
   ]
  },
  {
   "cell_type": "markdown",
   "metadata": {},
   "source": [
    "## Date and time formating `strftime`\n",
    "\n",
    "`datetime` module function `strftime` permits to transform time and date object into a string.\n"
   ]
  },
  {
   "cell_type": "code",
   "execution_count": null,
   "metadata": {},
   "outputs": [],
   "source": [
    "from datetime import datetime\n",
    "\n",
    "date = datetime(2023, 10, 26, 19, 30, 0) # we enter the date\n",
    "string_formant = \"%Y-%m-%d %H:%M:%S\" # we enter the string \n",
    "\n",
    "date_string = date.strftime(string_formant)\n",
    "print(date_string)"
   ]
  },
  {
   "cell_type": "markdown",
   "metadata": {},
   "source": [
    "%Y, %m, %d, %H, %M ir %S symbols correspont to years, months, days, hours, minutes and seconds"
   ]
  },
  {
   "cell_type": "markdown",
   "metadata": {},
   "source": [
    "### Quick Assignement 2\n",
    "\n",
    "Create a function that accepts a date of birth as a string (in the format \"%Y-%m-%d\") and returns the number of days until your birthday"
   ]
  },
  {
   "cell_type": "markdown",
   "metadata": {},
   "source": [
    "## Formatting date and time from string using `strptime`"
   ]
  },
  {
   "cell_type": "markdown",
   "metadata": {},
   "source": [
    "Python allows you to format a string of text into a datetime object."
   ]
  },
  {
   "cell_type": "code",
   "execution_count": null,
   "metadata": {},
   "outputs": [],
   "source": [
    "from datetime import datetime\n",
    "\n",
    "date = \"2023-10-26 19:30:00\"\n",
    "string_format = \"%Y-%m-%d %H:%M:%S\"\n",
    "\n",
    "date_object = datetime.strptime(date, string_format)\n",
    "print(date_object)"
   ]
  },
  {
   "cell_type": "markdown",
   "metadata": {},
   "source": [
    "### Quick Assignement 3\n",
    "\n",
    "Write a program that accepts a date and time in string format (for example, \"2023-05-21 15:30\"), adds 48 hours to it, and returns the new date and time in string format."
   ]
  },
  {
   "cell_type": "code",
   "execution_count": 17,
   "metadata": {},
   "outputs": [
    {
     "name": "stdout",
     "output_type": "stream",
     "text": [
      "Po dvieju paru 2024-01-16\n",
      "2 paros nuo sios dienos 2024-01-16\n"
     ]
    }
   ],
   "source": [
    "from datetime import datetime, timedelta\n",
    "def prideti_2_paras(datlaikis):\n",
    "    suformatuoti_stringa = \"%Y-%m-%d %H:%M\"\n",
    "    datos_objektas = datetime.strftime(datlaikis, suformatuoti_stringa)\n",
    "    naujas_datos_objektas = datos_objektas + timedelta(hours=48)\n",
    "    naujas_datlaikis = naujas_datos_objektas.strftime(suformatuoti_stringa)\n",
    "    return naujas_datlaikis\n",
    "\n",
    "datlaikis = today\n",
    "datkaikis1 = \"2024-01-16 10:10\"\n",
    "print(f\"Po dvieju paru {(datlaikis)}\")\n",
    "print(f\"2 paros nuo sios dienos {(datlaikis)}\")"
   ]
  },
  {
   "cell_type": "markdown",
   "metadata": {},
   "source": [
    "## Representing dates and times as numbers using `timestamp`\n",
    "\n",
    "Timestamp is a number that shows how many seconds have passed since 1970. January 1, 00:00:00 (UTC). Python allows you to convert datetime objects to timestamps and back. Here's how to do it:"
   ]
  },
  {
   "cell_type": "code",
   "execution_count": null,
   "metadata": {},
   "outputs": [],
   "source": [
    "\n",
    "from datetime import datetime\n",
    "import time\n",
    "\n",
    "date_obj = datetime(2023, 10, 26, 18, 30, 0)\n",
    "\n",
    "timestamp = time.mktime(date_obj.timetuple())\n",
    "print(timestamp)\n"
   ]
  },
  {
   "cell_type": "markdown",
   "metadata": {},
   "source": [
    "\n",
    "### Converting timestamp into a date object\n"
   ]
  },
  {
   "cell_type": "code",
   "execution_count": null,
   "metadata": {},
   "outputs": [],
   "source": [
    "\n",
    "from datetime import datetime\n",
    "import time\n",
    "\n",
    "timestamp = 1698337800\n",
    "\n",
    "date_obj = datetime.fromtimestamp(timestamp)\n",
    "print(date_obj)\n"
   ]
  },
  {
   "cell_type": "markdown",
   "metadata": {},
   "source": [
    "### Quick Assignement 4\n",
    "\n",
    "Write a program that accepts two periods as timestamps and returns the difference in days between the periods."
   ]
  },
  {
   "cell_type": "code",
   "execution_count": 26,
   "metadata": {},
   "outputs": [
    {
     "name": "stdout",
     "output_type": "stream",
     "text": [
      "dienu skirtumas (1671395400, 1674000000)\n",
      "dienu skirtumas 30\n"
     ]
    }
   ],
   "source": [
    "from datetime import datetime\n",
    "\n",
    "def dienu_skirtumas(laikas1, laikas2):\n",
    "    data1 = datetime.fromtimestamp(laikas1)\n",
    "    data2 = datetime.fromtimestamp(laikas2)\n",
    "    skirtumas = abs(data2 - data1)\n",
    "    return skirtumas.days\n",
    "\n",
    "laikas1 = 1671395400\n",
    "laikas2 = 1674000000\n",
    "\n",
    "print(f\"dienu skirtumas {(laikas1, laikas2)}\")\n",
    "print(f\"dienu skirtumas {dienu_skirtumas (laikas1, laikas2)}\")"
   ]
  },
  {
   "cell_type": "markdown",
   "metadata": {},
   "source": [
    "### Quick Assignement 5\n",
    "\n",
    "Create a function that accepts a date as a string (for example, \"06/01/2023\") and returns what day of the week that date is (for example, \"Monday\", \"Tuesday\", etc.)."
   ]
  },
  {
   "cell_type": "code",
   "execution_count": 36,
   "metadata": {},
   "outputs": [
    {
     "name": "stdout",
     "output_type": "stream",
     "text": [
      "savaites diena yra pirmadienis\n"
     ]
    }
   ],
   "source": [
    "from datetime import datetime\n",
    "\n",
    "def savaites_diena(data):\n",
    "    suformatuoti_stringa = \"%Y-%m-%d\"\n",
    "    dienos_objektas = datetime.strptime(data, suformatuoti_stringa)\n",
    "    savaites_dienos = [\"pirmadienis\", \"antradienis\", \"treciadienis\", \"ketvirtadienis\", \"penktadienis\", \"sestadienis\", \"sekmadienis\"]\n",
    "    return savaites_dienos[dienos_objektas.weekday()]\n",
    "\n",
    "data = \"2024-03-11\"\n",
    "print(f\"savaites diena yra {savaites_diena(data)}\")"
   ]
  },
  {
   "cell_type": "code",
   "execution_count": 5,
   "metadata": {},
   "outputs": [
    {
     "ename": "ValueError",
     "evalue": "time data '2000-02-12' does not match format '%XX-%m-%d'",
     "output_type": "error",
     "traceback": [
      "\u001b[1;31m---------------------------------------------------------------------------\u001b[0m",
      "\u001b[1;31mValueError\u001b[0m                                Traceback (most recent call last)",
      "Cell \u001b[1;32mIn[5], line 16\u001b[0m\n\u001b[0;32m     13\u001b[0m     \u001b[38;5;28;01mreturn\u001b[39;00m skirtumas\u001b[38;5;241m.\u001b[39mdays\n\u001b[0;32m     15\u001b[0m gimimo_data \u001b[38;5;241m=\u001b[39m \u001b[38;5;124m\"\u001b[39m\u001b[38;5;124m2000-02-12\u001b[39m\u001b[38;5;124m\"\u001b[39m\n\u001b[1;32m---> 16\u001b[0m \u001b[38;5;28mprint\u001b[39m(\u001b[38;5;124mf\u001b[39m\u001b[38;5;124m\"\u001b[39m\u001b[38;5;132;01m{\u001b[39;00m\u001b[43mdienos_iki_gimdadienio\u001b[49m\u001b[43m(\u001b[49m\u001b[43mgimimo_data\u001b[49m\u001b[43m)\u001b[49m\u001b[38;5;132;01m}\u001b[39;00m\u001b[38;5;124m dienos iki gimtadienio\u001b[39m\u001b[38;5;124m\"\u001b[39m)\n",
      "Cell \u001b[1;32mIn[5], line 4\u001b[0m, in \u001b[0;36mdienos_iki_gimdadienio\u001b[1;34m(gimimo_diena)\u001b[0m\n\u001b[0;32m      3\u001b[0m \u001b[38;5;28;01mdef\u001b[39;00m \u001b[38;5;21mdienos_iki_gimdadienio\u001b[39m(gimimo_diena):\n\u001b[1;32m----> 4\u001b[0m     gimimo_diena_format \u001b[38;5;241m=\u001b[39m \u001b[43mdatetime\u001b[49m\u001b[38;5;241;43m.\u001b[39;49m\u001b[43mstrptime\u001b[49m\u001b[43m(\u001b[49m\u001b[43mgimimo_diena\u001b[49m\u001b[43m,\u001b[49m\u001b[43m \u001b[49m\u001b[38;5;124;43m\"\u001b[39;49m\u001b[38;5;132;43;01m%X\u001b[39;49;00m\u001b[38;5;124;43mX-\u001b[39;49m\u001b[38;5;124;43m%\u001b[39;49m\u001b[38;5;124;43mm-\u001b[39;49m\u001b[38;5;132;43;01m%d\u001b[39;49;00m\u001b[38;5;124;43m\"\u001b[39;49m\u001b[43m)\u001b[49m\n\u001b[0;32m      5\u001b[0m     siandiena \u001b[38;5;241m=\u001b[39m date\u001b[38;5;241m.\u001b[39mtoday\n\u001b[0;32m      6\u001b[0m     siandiena \u001b[38;5;241m=\u001b[39m datetime(siandiena\u001b[38;5;241m.\u001b[39myear, siandiena\u001b[38;5;241m.\u001b[39mmonth, siandiena\u001b[38;5;241m.\u001b[39mday)\n",
      "File \u001b[1;32mC:\\Program Files\\Python311\\Lib\\_strptime.py:568\u001b[0m, in \u001b[0;36m_strptime_datetime\u001b[1;34m(cls, data_string, format)\u001b[0m\n\u001b[0;32m    565\u001b[0m \u001b[38;5;28;01mdef\u001b[39;00m \u001b[38;5;21m_strptime_datetime\u001b[39m(\u001b[38;5;28mcls\u001b[39m, data_string, \u001b[38;5;28mformat\u001b[39m\u001b[38;5;241m=\u001b[39m\u001b[38;5;124m\"\u001b[39m\u001b[38;5;132;01m%a\u001b[39;00m\u001b[38;5;124m \u001b[39m\u001b[38;5;124m%\u001b[39m\u001b[38;5;124mb \u001b[39m\u001b[38;5;132;01m%d\u001b[39;00m\u001b[38;5;124m \u001b[39m\u001b[38;5;124m%\u001b[39m\u001b[38;5;124mH:\u001b[39m\u001b[38;5;124m%\u001b[39m\u001b[38;5;124mM:\u001b[39m\u001b[38;5;124m%\u001b[39m\u001b[38;5;124mS \u001b[39m\u001b[38;5;124m%\u001b[39m\u001b[38;5;124mY\u001b[39m\u001b[38;5;124m\"\u001b[39m):\n\u001b[0;32m    566\u001b[0m \u001b[38;5;250m    \u001b[39m\u001b[38;5;124;03m\"\"\"Return a class cls instance based on the input string and the\u001b[39;00m\n\u001b[0;32m    567\u001b[0m \u001b[38;5;124;03m    format string.\"\"\"\u001b[39;00m\n\u001b[1;32m--> 568\u001b[0m     tt, fraction, gmtoff_fraction \u001b[38;5;241m=\u001b[39m \u001b[43m_strptime\u001b[49m\u001b[43m(\u001b[49m\u001b[43mdata_string\u001b[49m\u001b[43m,\u001b[49m\u001b[43m \u001b[49m\u001b[38;5;28;43mformat\u001b[39;49m\u001b[43m)\u001b[49m\n\u001b[0;32m    569\u001b[0m     tzname, gmtoff \u001b[38;5;241m=\u001b[39m tt[\u001b[38;5;241m-\u001b[39m\u001b[38;5;241m2\u001b[39m:]\n\u001b[0;32m    570\u001b[0m     args \u001b[38;5;241m=\u001b[39m tt[:\u001b[38;5;241m6\u001b[39m] \u001b[38;5;241m+\u001b[39m (fraction,)\n",
      "File \u001b[1;32mC:\\Program Files\\Python311\\Lib\\_strptime.py:349\u001b[0m, in \u001b[0;36m_strptime\u001b[1;34m(data_string, format)\u001b[0m\n\u001b[0;32m    347\u001b[0m found \u001b[38;5;241m=\u001b[39m format_regex\u001b[38;5;241m.\u001b[39mmatch(data_string)\n\u001b[0;32m    348\u001b[0m \u001b[38;5;28;01mif\u001b[39;00m \u001b[38;5;129;01mnot\u001b[39;00m found:\n\u001b[1;32m--> 349\u001b[0m     \u001b[38;5;28;01mraise\u001b[39;00m \u001b[38;5;167;01mValueError\u001b[39;00m(\u001b[38;5;124m\"\u001b[39m\u001b[38;5;124mtime data \u001b[39m\u001b[38;5;132;01m%r\u001b[39;00m\u001b[38;5;124m does not match format \u001b[39m\u001b[38;5;132;01m%r\u001b[39;00m\u001b[38;5;124m\"\u001b[39m \u001b[38;5;241m%\u001b[39m\n\u001b[0;32m    350\u001b[0m                      (data_string, \u001b[38;5;28mformat\u001b[39m))\n\u001b[0;32m    351\u001b[0m \u001b[38;5;28;01mif\u001b[39;00m \u001b[38;5;28mlen\u001b[39m(data_string) \u001b[38;5;241m!=\u001b[39m found\u001b[38;5;241m.\u001b[39mend():\n\u001b[0;32m    352\u001b[0m     \u001b[38;5;28;01mraise\u001b[39;00m \u001b[38;5;167;01mValueError\u001b[39;00m(\u001b[38;5;124m\"\u001b[39m\u001b[38;5;124munconverted data remains: \u001b[39m\u001b[38;5;132;01m%s\u001b[39;00m\u001b[38;5;124m\"\u001b[39m \u001b[38;5;241m%\u001b[39m\n\u001b[0;32m    353\u001b[0m                       data_string[found\u001b[38;5;241m.\u001b[39mend():])\n",
      "\u001b[1;31mValueError\u001b[0m: time data '2000-02-12' does not match format '%XX-%m-%d'"
     ]
    }
   ],
   "source": [
    "from datetime import datetime, date\n",
    "\n",
    "def dienos_iki_gimdadienio(gimimo_diena):\n",
    "    gimimo_diena_format = datetime.strptime(gimimo_diena, \"%XX-%m-%d\")\n",
    "    siandiena = date.today\n",
    "    siandiena = datetime(siandiena.year, siandiena.month, siandiena.day)\n",
    "    gimtadienio_data = gimimo_diena_format.replace(year=siandiena.year)\n",
    "\n",
    "    if gimtadienio_data < siandiena:\n",
    "        gimtadienio_data = gimtadienio_data.replace(year=siandiena.year +1)\n",
    "\n",
    "    skirtumas = gimtadienio_data - siandiena\n",
    "    return skirtumas.days\n",
    "\n",
    "gimimo_data = \"2000-02-12\"\n",
    "print(f\"{dienos_iki_gimdadienio(gimimo_data)} dienos iki gimtadienio\")\n"
   ]
  }
 ],
 "metadata": {
  "kernelspec": {
   "display_name": "Python 3",
   "language": "python",
   "name": "python3"
  },
  "language_info": {
   "codemirror_mode": {
    "name": "ipython",
    "version": 3
   },
   "file_extension": ".py",
   "mimetype": "text/x-python",
   "name": "python",
   "nbconvert_exporter": "python",
   "pygments_lexer": "ipython3",
   "version": "3.11.7"
  }
 },
 "nbformat": 4,
 "nbformat_minor": 2
}

{
 "cells": [
  {
   "cell_type": "markdown",
   "metadata": {},
   "source": [
    "# Time Zones\n",
    "\n",
    "### Aware and Naive Date/Time Objects\n",
    "\n",
    "In the Python datetime module, there are two main types of date and time objects: \"aware\" and \"naive.\" \"Naive\" date and time objects lack information about time zones or switching to summer time, making them inconvenient when dealing with changes in time zones. \n",
    "\n",
    "\"Aware\" objects contain information about time zones and switching to summer time.\n",
    "\n",
    "### `datetime.utcnow()`\n",
    "\n",
    "To obtain the current time in Coordinated Universal Time (UTC), you can use the datetime.utcnow() function:\n",
    "\n"
   ]
  },
  {
   "cell_type": "code",
   "execution_count": 1,
   "metadata": {},
   "outputs": [
    {
     "name": "stdout",
     "output_type": "stream",
     "text": [
      "2024-01-16 09:11:42.402592\n"
     ]
    }
   ],
   "source": [
    "\n",
    "from datetime import datetime\n",
    "\n",
    "utc_now = datetime.utcnow()\n",
    "print(utc_now)\n"
   ]
  },
  {
   "cell_type": "markdown",
   "metadata": {},
   "source": [
    "\n",
    "### Time Zone List, zoneinfo Module\n",
    "\n",
    "In Python 3.9 and later versions, the zoneinfo module allows working with time zones:\n",
    "\n"
   ]
  },
  {
   "cell_type": "code",
   "execution_count": null,
   "metadata": {},
   "outputs": [],
   "source": [
    "\n",
    "from zoneinfo import ZoneInfo\n",
    "from datetime import datetime\n",
    "\n",
    "# Create an \"aware\" datetime object with a specified time zone\n",
    "time = datetime(2023, 4, 12, 18, 30, tzinfo=ZoneInfo(\"Europe/Vilnius\"))\n",
    "print(time)\n",
    "\n"
   ]
  },
  {
   "cell_type": "markdown",
   "metadata": {},
   "source": [
    "\n",
    "You can use this module to output a list of time zones it supports:\n",
    "\n"
   ]
  },
  {
   "cell_type": "code",
   "execution_count": 2,
   "metadata": {},
   "outputs": [],
   "source": [
    "from zoneinfo import available_timezones\n",
    "\n",
    "for time_zone in available_timezones():\n",
    "    print(time_zone)\n",
    "    \n"
   ]
  },
  {
   "cell_type": "markdown",
   "metadata": {},
   "source": [
    "### Quick Assignement 1\n",
    "\n",
    "Write a program that outputs a list of all time zones with \"America\" in their name."
   ]
  },
  {
   "cell_type": "code",
   "execution_count": 9,
   "metadata": {},
   "outputs": [],
   "source": [
    "from zoneinfo import available_timezones\n",
    "\n",
    "amerikos_laiko_juostos = []\n",
    "\n",
    "for tz in available_timezones():\n",
    "    if \"amerika\" in tz:\n",
    "        amerikos_laiko_juostos.append()\n",
    "\n",
    "for laiko_juosta in amerikos_laiko_juostos:\n",
    "    print(f\"ameriko laiko juostos {laiko_juosta}\")"
   ]
  },
  {
   "cell_type": "markdown",
   "metadata": {},
   "source": [
    "### `datetime.tzinfo`\n",
    "\n",
    "datetime.tzinfo is an abstract class used to store time zone information. You can use functions from the `zoneinfo` module to populate the `tzinfo` attribute when creating a new \"aware\" datetime object:\n"
   ]
  },
  {
   "cell_type": "code",
   "execution_count": null,
   "metadata": {},
   "outputs": [],
   "source": [
    "\n",
    "from datetime import datetime\n",
    "from zoneinfo import ZoneInfo\n",
    "\n",
    "time = datetime(2023, 4, 12, 18, 30, tzinfo=ZoneInfo(\"Europe/Vilnius\"))\n",
    "print(time.tzinfo)\n",
    "\n"
   ]
  },
  {
   "cell_type": "markdown",
   "metadata": {},
   "source": [
    "\n",
    "### Specifying Time Zone in datetime.datetime Object\n",
    "\n",
    "To specify the time zone in a datetime.datetime object, you can use the replace() function or the astimezone() function.\n",
    "\n",
    "Example with replace():\n"
   ]
  },
  {
   "cell_type": "code",
   "execution_count": null,
   "metadata": {},
   "outputs": [],
   "source": [
    "\n",
    "from datetime import datetime\n",
    "from zoneinfo import ZoneInfo\n",
    "\n",
    "utc_now = datetime.utcnow()\n",
    "vilnius_time = utc_now.replace(tzinfo=ZoneInfo(\"UTC\")).astimezone(ZoneInfo(\"Europe/Vilnius\"))\n",
    "print(vilnius_time)\n"
   ]
  },
  {
   "cell_type": "markdown",
   "metadata": {},
   "source": [
    "\n",
    "Example with astimezone():\n"
   ]
  },
  {
   "cell_type": "code",
   "execution_count": null,
   "metadata": {},
   "outputs": [],
   "source": [
    "\n",
    "\n",
    "from datetime import datetime\n",
    "from zoneinfo import ZoneInfo\n",
    "\n",
    "utc_now = datetime.utcnow().replace(tzinfo=ZoneInfo(\"UTC\"))\n",
    "vilnius_time = utc_now.astimezone(ZoneInfo(\"Europe/Vilnius\"))\n",
    "print(vilnius_time)\n"
   ]
  },
  {
   "cell_type": "markdown",
   "metadata": {},
   "source": [
    "\n",
    "Both examples first create a datetime.datetime object reflecting the current time in Coordinated Universal Time (UTC). Then, they use the replace() or astimezone() function to change the time zone to \"Europe/Vilnius\" and output the result on the screen."
   ]
  },
  {
   "cell_type": "markdown",
   "metadata": {},
   "source": [
    "### Quick Assignement 2\n",
    "\n",
    "Write a program that asks the user for the time in HH:MM(:SS) format, where seconds are not necessary. Then ask for a time zone. Print the entered time in the following time zones: Sydney, Dubai, Vilnius, London, New York and Los Angeles."
   ]
  },
  {
   "cell_type": "code",
   "execution_count": 10,
   "metadata": {},
   "outputs": [
    {
     "ename": "TypeError",
     "evalue": "strptime() argument 2 must be str, not builtin_function_or_method",
     "output_type": "error",
     "traceback": [
      "\u001b[1;31m---------------------------------------------------------------------------\u001b[0m",
      "\u001b[1;31mTypeError\u001b[0m                                 Traceback (most recent call last)",
      "Cell \u001b[1;32mIn[10], line 11\u001b[0m\n\u001b[0;32m      8\u001b[0m \u001b[38;5;28;01mif\u001b[39;00m \u001b[38;5;28mlen\u001b[39m(iveskite_laika) \u001b[38;5;241m>\u001b[39m\u001b[38;5;241m5\u001b[39m:\n\u001b[0;32m      9\u001b[0m     \u001b[38;5;28mformat\u001b[39m \u001b[38;5;241m=\u001b[39m \u001b[38;5;124m\"\u001b[39m\u001b[38;5;124mHH:MM(:SS)\u001b[39m\u001b[38;5;124m\"\u001b[39m\n\u001b[1;32m---> 11\u001b[0m laikas \u001b[38;5;241m=\u001b[39m \u001b[43mdatetime\u001b[49m\u001b[38;5;241;43m.\u001b[39;49m\u001b[43mstrptime\u001b[49m\u001b[43m(\u001b[49m\u001b[43miveskite_laika\u001b[49m\u001b[43m,\u001b[49m\u001b[43m \u001b[49m\u001b[38;5;28;43mformat\u001b[39;49m\u001b[43m)\u001b[49m\n\u001b[0;32m     13\u001b[0m sydney \u001b[38;5;241m=\u001b[39m laikas\u001b[38;5;241m.\u001b[39mreplace(tzinfo\u001b[38;5;241m=\u001b[39mZoneInfo(vartotojo_laiko_zona))\u001b[38;5;241m.\u001b[39mastimezone(ZoneInfo(\u001b[38;5;124m\"\u001b[39m\u001b[38;5;124mAustralija/Sidnejus\u001b[39m\u001b[38;5;124m\"\u001b[39m))\n\u001b[0;32m     15\u001b[0m \u001b[38;5;28mprint\u001b[39m(\u001b[38;5;124mf\u001b[39m\u001b[38;5;124m\"\"\"\u001b[39m\u001b[38;5;124mJusu laikas: \u001b[39m\u001b[38;5;132;01m{\u001b[39;00mlaikas\u001b[38;5;241m.\u001b[39mtime()\u001b[38;5;132;01m}\u001b[39;00m\u001b[38;5;124m, \u001b[39m\u001b[38;5;132;01m{\u001b[39;00mvartotojo_laiko_zona\u001b[38;5;132;01m}\u001b[39;00m\n\u001b[0;32m     16\u001b[0m \u001b[38;5;124m      Sidnejaus laikas: \u001b[39m\u001b[38;5;132;01m{\u001b[39;00mlaikas\u001b[38;5;241m.\u001b[39mtime()\u001b[38;5;132;01m}\u001b[39;00m\u001b[38;5;124m, Australija, Sidnejus\u001b[39m\u001b[38;5;124m\"\"\"\u001b[39m )\n",
      "\u001b[1;31mTypeError\u001b[0m: strptime() argument 2 must be str, not builtin_function_or_method"
     ]
    }
   ],
   "source": [
    "from datetime import datetime\n",
    "from zoneinfo import ZoneInfo\n",
    "\n",
    "iveskite_laika = input(\"Iveskite laika formatu: HH:MM(:SS)\")\n",
    "laiko_formatas = \"HH:MM(:SS)\"\n",
    "vartotojo_laiko_zona = input(\"Iveskite laiko zona, pvz.: Lietuva/Vilnius\")\n",
    "\n",
    "if len(iveskite_laika) >5:\n",
    "    format = \"HH:MM(:SS)\"\n",
    "\n",
    "laikas = datetime.strptime(iveskite_laika, format)\n",
    "\n",
    "sydney = laikas.replace(tzinfo=ZoneInfo(vartotojo_laiko_zona)).astimezone(ZoneInfo(\"Australija/Sidnejus\"))\n",
    "\n",
    "print(f\"\"\"Jusu laikas: {laikas.time()}, {vartotojo_laiko_zona}\n",
    "      Sidnejaus laikas: {laikas.time()}, Australija, Sidnejus\"\"\" )"
   ]
  }
 ],
 "metadata": {
  "kernelspec": {
   "display_name": "Python 3",
   "language": "python",
   "name": "python3"
  },
  "language_info": {
   "codemirror_mode": {
    "name": "ipython",
    "version": 3
   },
   "file_extension": ".py",
   "mimetype": "text/x-python",
   "name": "python",
   "nbconvert_exporter": "python",
   "pygments_lexer": "ipython3",
   "version": "3.11.7"
  }
 },
 "nbformat": 4,
 "nbformat_minor": 2
}

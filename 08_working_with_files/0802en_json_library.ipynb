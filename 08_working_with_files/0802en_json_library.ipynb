{
 "cells": [
  {
   "cell_type": "markdown",
   "metadata": {},
   "source": [
    "# JSON Library\n",
    "\n",
    "JSON (JavaScript Object Notation) is a data format used for exchanging data between a server and a client or between two different systems. JSON can be easily converted into objects in many programming languages, including Python.\n",
    "\n",
    "JSON format uses keys and values, where keys are strings, and values can be strings, numbers, Boolean values (true or false), arrays, or other JSON object structures.\n",
    "\n",
    "Here's an example of a JSON object:\n",
    "\n",
    "```json\n",
    "{\n",
    "  \"name\": \"Jonas\",\n",
    "  \"age\": 30,\n",
    "  \"is_student\": false,\n",
    "  \"hobbies\": [\"books\", \"movies\", \"travel\"],\n",
    "  \"address\": {\n",
    "    \"street\": \"Vytauto St. 10\",\n",
    "    \"city\": \"Vilnius\",\n",
    "    \"country\": \"Lithuania\"\n",
    "  }\n",
    "}\n",
    "```"
   ]
  },
  {
   "cell_type": "markdown",
   "metadata": {},
   "source": [
    "In Python, you can work with JSON data using the `json` module. This module allows you to convert Python objects such as dictionaries, lists, strings, numbers, and Boolean values into JSON format and vice versa.\n",
    "\n",
    "The main functions of the json module are:\n",
    "\n",
    "1. `json.dump()` and `json.dumps()`: Converts a Python object to JSON format.\n",
    "1. `json.load()` and `json.loads()`: Converts JSON data to a Python object."
   ]
  },
  {
   "cell_type": "markdown",
   "metadata": {},
   "source": [
    "### json.dump()\n",
    "\n",
    "This function converts a Python object to JSON format and writes it to a file. It takes two main arguments: the Python object you want to convert and the file object where you want to write the JSON data. It's commonly used with the `open()` function to open a file for writing."
   ]
  },
  {
   "cell_type": "code",
   "execution_count": null,
   "metadata": {},
   "outputs": [],
   "source": [
    "import json\n",
    "\n",
    "data = {\"name\": \"Jonas\", \"age\": 30}\n",
    "\n",
    "with open(\"data.json\", \"w\", encoding=\"utf-8\") as f:\n",
    "    json.dump(data, f)\n"
   ]
  },
  {
   "cell_type": "markdown",
   "metadata": {},
   "source": [
    "### json.dumps()\n",
    "This function converts a Python object to JSON format and returns a JSON string. It takes one argument: the Python object you want to convert."
   ]
  },
  {
   "cell_type": "code",
   "execution_count": null,
   "metadata": {},
   "outputs": [],
   "source": [
    "import json\n",
    "\n",
    "data = {\"name\": \"Jonas\", \"age\": 30}\n",
    "\n",
    "json_string = json.dumps(data)\n",
    "print(json_string)  # `{\"name\": \"Jonas\", \"age\": 30}`\n"
   ]
  },
  {
   "cell_type": "markdown",
   "metadata": {},
   "source": [
    "### json.load()\n",
    "This function converts JSON data from a file into a Python object. It takes one argument: the file object from which you want to read the JSON data. It's typically used with the `open()` function to open a file for reading."
   ]
  },
  {
   "cell_type": "code",
   "execution_count": null,
   "metadata": {},
   "outputs": [],
   "source": [
    "import json\n",
    "\n",
    "with open(\"data.json\", \"r\", encoding=\"utf-8\") as f:\n",
    "    data = json.load(f)\n",
    "\n",
    "print(data)  # `{\"name\": \"Jonas\", \"age\": 30}`\n"
   ]
  },
  {
   "cell_type": "markdown",
   "metadata": {},
   "source": [
    "### json.loads()\n",
    "This function converts a JSON string into a Python object. It takes one argument: the JSON string you want to convert into a Python object."
   ]
  },
  {
   "cell_type": "code",
   "execution_count": null,
   "metadata": {},
   "outputs": [],
   "source": [
    "import json\n",
    "\n",
    "json_string = '{\"name\": \"Jonas\", \"age\": 30}'\n",
    "\n",
    "data = json.loads(json_string)\n",
    "print(data)  # `{\"name\": \"Jonas\", \"age\": 30}`\n"
   ]
  },
  {
   "cell_type": "markdown",
   "metadata": {},
   "source": [
    "# `Assignment`\n",
    "Improve your refrigerator program developed during the previous course by using JSON:\n",
    "\n",
    "1. When the program starts, if it finds a refrigerator JSON file, read its contents and fill the refrigerator with its contents.\n",
    "1. When the program closes, save the contents of the refrigerator to a JSON file."
   ]
  },
  {
   "cell_type": "code",
   "execution_count": null,
   "metadata": {},
   "outputs": [],
   "source": [
    "import json "
   ]
  },
  {
   "cell_type": "code",
   "execution_count": 16,
   "metadata": {},
   "outputs": [
    {
     "ename": "NameError",
     "evalue": "name 'json' is not defined",
     "output_type": "error",
     "traceback": [
      "\u001b[1;31m---------------------------------------------------------------------------\u001b[0m",
      "\u001b[1;31mNameError\u001b[0m                                 Traceback (most recent call last)",
      "Cell \u001b[1;32mIn[16], line 6\u001b[0m\n\u001b[0;32m      1\u001b[0m zmogus \u001b[38;5;241m=\u001b[39m {\n\u001b[0;32m      2\u001b[0m     \u001b[38;5;124m\"\u001b[39m\u001b[38;5;124mvardas\u001b[39m\u001b[38;5;124m\"\u001b[39m: \u001b[38;5;124m\"\u001b[39m\u001b[38;5;124mjonas\u001b[39m\u001b[38;5;124m\"\u001b[39m,\n\u001b[0;32m      3\u001b[0m     \u001b[38;5;124m\"\u001b[39m\u001b[38;5;124mpavarde\u001b[39m\u001b[38;5;124m\"\u001b[39m: \u001b[38;5;124m\"\u001b[39m\u001b[38;5;124mpavardaitis\u001b[39m\u001b[38;5;124m\"\u001b[39m,\n\u001b[0;32m      4\u001b[0m     \u001b[38;5;124m\"\u001b[39m\u001b[38;5;124mamžius\u001b[39m\u001b[38;5;124m\"\u001b[39m: \u001b[38;5;241m43\u001b[39m,\n\u001b[0;32m      5\u001b[0m }\n\u001b[1;32m----> 6\u001b[0m \u001b[38;5;28mprint\u001b[39m(\u001b[43mjson\u001b[49m\u001b[38;5;241m.\u001b[39mdumps(zmogus))\n",
      "\u001b[1;31mNameError\u001b[0m: name 'json' is not defined"
     ]
    }
   ],
   "source": [
    "zmogus = {\n",
    "    \"vardas\": \"jonas\",\n",
    "    \"pavarde\": \"pavardaitis\",\n",
    "    \"amžius\": 43,\n",
    "}\n",
    "print(json.dumps(zmogus))"
   ]
  },
  {
   "cell_type": "code",
   "execution_count": 17,
   "metadata": {},
   "outputs": [
    {
     "ename": "NameError",
     "evalue": "name 'json' is not defined",
     "output_type": "error",
     "traceback": [
      "\u001b[1;31m---------------------------------------------------------------------------\u001b[0m",
      "\u001b[1;31mNameError\u001b[0m                                 Traceback (most recent call last)",
      "Cell \u001b[1;32mIn[17], line 2\u001b[0m\n\u001b[0;32m      1\u001b[0m \u001b[38;5;28;01mwith\u001b[39;00m \u001b[38;5;28mopen\u001b[39m(\u001b[38;5;124m\"\u001b[39m\u001b[38;5;124masmuo.json\u001b[39m\u001b[38;5;124m\"\u001b[39m, \u001b[38;5;124m\"\u001b[39m\u001b[38;5;124mr\u001b[39m\u001b[38;5;124m\"\u001b[39m, encoding\u001b[38;5;241m=\u001b[39m\u001b[38;5;124m\"\u001b[39m\u001b[38;5;124mutf-8\u001b[39m\u001b[38;5;124m\"\u001b[39m) \u001b[38;5;28;01mas\u001b[39;00m asmens_file:\n\u001b[1;32m----> 2\u001b[0m     \u001b[43mjson\u001b[49m\u001b[38;5;241m.\u001b[39mdump(asmens_file)\n",
      "\u001b[1;31mNameError\u001b[0m: name 'json' is not defined"
     ]
    }
   ],
   "source": [
    "with open(\"asmuo.json\", \"r\", encoding=\"utf-8\") as asmens_file:\n",
    "    json.dump(asmens_file)"
   ]
  },
  {
   "cell_type": "code",
   "execution_count": 18,
   "metadata": {},
   "outputs": [
    {
     "ename": "NameError",
     "evalue": "name 'json' is not defined",
     "output_type": "error",
     "traceback": [
      "\u001b[1;31m---------------------------------------------------------------------------\u001b[0m",
      "\u001b[1;31mNameError\u001b[0m                                 Traceback (most recent call last)",
      "Cell \u001b[1;32mIn[18], line 2\u001b[0m\n\u001b[0;32m      1\u001b[0m \u001b[38;5;28;01mwith\u001b[39;00m \u001b[38;5;28mopen\u001b[39m(\u001b[38;5;124m\"\u001b[39m\u001b[38;5;124masmuo.json\u001b[39m\u001b[38;5;124m\"\u001b[39m, \u001b[38;5;124m\"\u001b[39m\u001b[38;5;124mr\u001b[39m\u001b[38;5;124m\"\u001b[39m, encoding\u001b[38;5;241m=\u001b[39m\u001b[38;5;124m\"\u001b[39m\u001b[38;5;124mutf-8\u001b[39m\u001b[38;5;124m\"\u001b[39m) \u001b[38;5;28;01mas\u001b[39;00m asmens_file:\n\u001b[1;32m----> 2\u001b[0m     asmuo \u001b[38;5;241m=\u001b[39m \u001b[43mjson\u001b[49m\u001b[38;5;241m.\u001b[39mload(asmens_file)\n\u001b[0;32m      3\u001b[0m \u001b[38;5;28mprint\u001b[39m(asmuo)\n",
      "\u001b[1;31mNameError\u001b[0m: name 'json' is not defined"
     ]
    }
   ],
   "source": [
    "with open(\"asmuo.json\", \"r\", encoding=\"utf-8\") as asmens_file:\n",
    "    asmuo = json.load(asmens_file)\n",
    "print(asmuo)"
   ]
  },
  {
   "cell_type": "code",
   "execution_count": null,
   "metadata": {},
   "outputs": [],
   "source": []
  }
 ],
 "metadata": {
  "kernelspec": {
   "display_name": "Python 3",
   "language": "python",
   "name": "python3"
  },
  "language_info": {
   "codemirror_mode": {
    "name": "ipython",
    "version": 3
   },
   "file_extension": ".py",
   "mimetype": "text/x-python",
   "name": "python",
   "nbconvert_exporter": "python",
   "pygments_lexer": "ipython3",
   "version": "3.11.7"
  }
 },
 "nbformat": 4,
 "nbformat_minor": 2
}

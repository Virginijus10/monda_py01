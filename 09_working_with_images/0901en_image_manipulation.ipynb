{
 "cells": [
  {
   "cell_type": "markdown",
   "metadata": {},
   "source": [
    "# Pillow Library\n",
    "\n",
    "**Pillow** is a popular Python library that allows for various image manipulations. \n",
    "It is not installed by default, so we need to install it. \n",
    "\n",
    "In the terminal, execute the command:\n",
    "\n",
    "```bash\n",
    "pip install pillow"
   ]
  },
  {
   "cell_type": "code",
   "execution_count": null,
   "metadata": {},
   "outputs": [],
   "source": []
  },
  {
   "cell_type": "markdown",
   "metadata": {},
   "source": [
    "## Resizing an Image"
   ]
  },
  {
   "cell_type": "code",
   "execution_count": null,
   "metadata": {},
   "outputs": [],
   "source": [
    "from PIL import Image\n",
    "\n",
    "image = Image.open(\"image.jpg\")\n",
    "width, height = (400, 300)\n",
    "new_size = (width, height)  # Replace \"width\" and \"height\" with desired parameters, e.g., (60, 80)\n",
    "resized_image = image.resize(new_size)\n",
    "resized_image.save(\"image_resized.jpg\") "
   ]
  },
  {
   "cell_type": "markdown",
   "metadata": {},
   "source": [
    "# `Quick assignment 1: Install Pillow, Resizing an Image`\n",
    "\n",
    "1. Install `Pillow` library using the terminal or command prompt and verify the installation.\n",
    "2. Write a Python script to `resize` an image to a specified `width` and `height`. \n",
    "3. Test it with `different dimensions`."
   ]
  },
  {
   "cell_type": "markdown",
   "metadata": {},
   "source": [
    "## Cropping an Image\n",
    "\n",
    "Note that coordinates are calculated from `left to right for X` and `from top to bottom for Y`."
   ]
  },
  {
   "cell_type": "code",
   "execution_count": 47,
   "metadata": {},
   "outputs": [],
   "source": [
    "from PIL import Image\n",
    "\n",
    "image = Image.open(\"image.jpg\")\n",
    "crop_area = (800, 300, 1100, 950)  # Define the crop area as a tuple (left, top, right, bottom)\n",
    "cropped_image = image.crop(crop_area)\n",
    "cropped_image.save(\"image_cropped.jpg\")"
   ]
  },
  {
   "cell_type": "markdown",
   "metadata": {},
   "source": [
    "- In the given code snippet, the crop area is set to `(800, 300, 1100, 950)`. This means that the cropped image will include pixels from the original image starting at x-coordinate 800 (left), y-coordinate 300 (top), up to x-coordinate 1100 (right), and down to y-coordinate 950 (bottom)."
   ]
  },
  {
   "cell_type": "markdown",
   "metadata": {},
   "source": [
    "# `Quick assignment 2: Cropping an Image`\n",
    "\n",
    "1. `Crop` a specific region from downloaded image using Python. \n",
    "2. Experiment with different coordinates for cropping."
   ]
  },
  {
   "cell_type": "code",
   "execution_count": null,
   "metadata": {},
   "outputs": [],
   "source": [
    "# Your code here"
   ]
  },
  {
   "cell_type": "markdown",
   "metadata": {},
   "source": [
    "## Creating Thumbnails"
   ]
  },
  {
   "cell_type": "code",
   "execution_count": 48,
   "metadata": {},
   "outputs": [],
   "source": [
    "image = Image.open(\"image.jpg\")\n",
    "thumbnail_size = (width, height)\n",
    "image.thumbnail(thumbnail_size)\n",
    "image.save(\"image_thumbnail.jpg\")"
   ]
  },
  {
   "cell_type": "markdown",
   "metadata": {},
   "source": [
    "# `Quick assignment 3: Creating Thumbnails`\n",
    "\n",
    "1. Develop a Python program to generate a `thumbnail` version of your image. \n",
    "1. Adjust the `thumbnail` `size` and observe the results."
   ]
  },
  {
   "cell_type": "markdown",
   "metadata": {},
   "source": [
    "## Splitting and Merging Pixels\n",
    "Images on computers are commonly stored using the `RGB color model`, where each color consists of three primary components: red (`R`), green (`G`), and blue (`B`). \n",
    "\n",
    "This example demonstrates how to separate these components and merge them back into one image."
   ]
  },
  {
   "cell_type": "code",
   "execution_count": 51,
   "metadata": {},
   "outputs": [],
   "source": [
    "from PIL import Image\n",
    "\n",
    "def split_and_merge(image):\n",
    "    image_r, image_g, image_b = image.split()\n",
    "    merged_image = Image.merge(\"RGB\", (image_r, image_g, image_b))\n",
    "    return merged_image\n",
    "\n",
    "image = Image.open(\"image.jpg\")\n",
    "merged_image = split_and_merge(image)\n",
    "merged_image.save(\"image_merged.jpg\")"
   ]
  },
  {
   "cell_type": "markdown",
   "metadata": {},
   "source": [
    "# `Quick assignment 4: Splitting and Merging Pixels`\n",
    "\n",
    "1. Understand the concept of splitting an image into RGB channels and merging them back. \n",
    "2. Apply the provided code to an image and observe the changes."
   ]
  },
  {
   "cell_type": "code",
   "execution_count": null,
   "metadata": {},
   "outputs": [],
   "source": [
    "# Your code here"
   ]
  },
  {
   "cell_type": "markdown",
   "metadata": {},
   "source": [
    "## Applying a Color Filter\n",
    "In this example, we split the image into RGB channels, apply a color filter using the `apply_color_filter` function, and then merge the updated channels into one image."
   ]
  },
  {
   "cell_type": "code",
   "execution_count": 53,
   "metadata": {},
   "outputs": [],
   "source": [
    "from PIL import Image\n",
    "\n",
    "def apply_color_filter(image_r, image_g, image_b):\n",
    "    # Increase red intensity\n",
    "    image_r = image_r.point(lambda i: i * 1.5)\n",
    "    # Decrease green intensity\n",
    "    image_g = image_g.point(lambda i: i * 0.5)\n",
    "    # Maintain blue intensity unchanged\n",
    "    image_b = image_b.point(lambda i: i)\n",
    "    return image_r, image_g, image_b\n",
    "\n",
    "def split_and_merge(image):\n",
    "    image_r, image_g, image_b = image.split()\n",
    "    image_r, image_g, image_b = apply_color_filter(image_r, image_g, image_b)\n",
    "    merged_image = Image.merge(\"RGB\", (image_r, image_g, image_b))\n",
    "    return merged_image\n",
    "\n",
    "image = Image.open(\"image.jpg\")\n",
    "merged_image = split_and_merge(image)\n",
    "merged_image.save(\"image_filtered.jpg\")\n"
   ]
  },
  {
   "cell_type": "markdown",
   "metadata": {},
   "source": [
    "# `Quick assignment 5: Applying a Color Filter`\n",
    "\n",
    "1. Modify the `color filter` in the provided code to create a custom effect. \n",
    "1. Apply the updated filter to an image and compare the results."
   ]
  },
  {
   "cell_type": "code",
   "execution_count": null,
   "metadata": {},
   "outputs": [],
   "source": [
    "# Your code here"
   ]
  },
  {
   "cell_type": "markdown",
   "metadata": {},
   "source": [
    "## Filters\n",
    "Pillow provides various built-in effects accessible through the `ImageFilter` class."
   ]
  },
  {
   "cell_type": "code",
   "execution_count": 54,
   "metadata": {},
   "outputs": [],
   "source": [
    "from PIL import Image, ImageFilter\n",
    "\n",
    "image = Image.open(\"image.jpg\")\n",
    "blurred_image = image.filter(ImageFilter.BLUR)\n",
    "blurred_image.save(\"image_blurred.jpg\")\n",
    "\n",
    "image = Image.open(\"image.jpg\")\n",
    "contour_image = image.filter(ImageFilter.CONTOUR)\n",
    "contour_image.save(\"image_contour.jpg\")\n",
    "\n",
    "image = Image.open(\"image.jpg\")\n",
    "sharpen_image = image.filter(ImageFilter.SHARPEN)\n",
    "sharpen_image.save(\"image_sharpen.jpg\")"
   ]
  },
  {
   "cell_type": "markdown",
   "metadata": {},
   "source": [
    "# `Quick assignment 6: Filters`\n",
    "\n",
    "1. Experiment with different filters from the `ImageFilter` class. \n",
    "1. Apply `blur`, `contour`, and `sharpen` filters to an image separately and observe the visual changes."
   ]
  },
  {
   "cell_type": "code",
   "execution_count": null,
   "metadata": {},
   "outputs": [],
   "source": [
    "# Your code here"
   ]
  },
  {
   "cell_type": "markdown",
   "metadata": {},
   "source": [
    "For more information on different effects, [refer to the Pillow documentation](https://pillow.readthedocs.io/en/stable/reference/ImageFilter.html).\n",
    "\n",
    "## Saving an Image"
   ]
  },
  {
   "cell_type": "code",
   "execution_count": 55,
   "metadata": {},
   "outputs": [],
   "source": [
    "from PIL import Image\n",
    "\n",
    "# Open the image\n",
    "image = Image.open(\"image.jpg\")\n",
    "\n",
    "# Perform desired manipulations on the image\n",
    "# ... (manipulation code here)\n",
    "\n",
    "# Save the image with the specified name and format\n",
    "image.save(\"image_edited.png\", \"PNG\")\n"
   ]
  },
  {
   "cell_type": "markdown",
   "metadata": {},
   "source": [
    "# `Quick assignment 7: Saving an Image`\n",
    "\n",
    "1. Write a Python script that opens an image, performs a simple manipulation (e.g., resizing), and saves the edited image with a new name and format."
   ]
  },
  {
   "cell_type": "code",
   "execution_count": null,
   "metadata": {},
   "outputs": [],
   "source": [
    "# Your code here"
   ]
  },
  {
   "cell_type": "code",
   "execution_count": 4,
   "metadata": {},
   "outputs": [],
   "source": [
    "from PIL import Image\n",
    "import os\n",
    "\n",
    "image = Image.open(\"image.jpg\")\n",
    "naujas_dydis = (240, 240)\n",
    "resized = image.resize(naujas_dydis)\n",
    "resized.save(\"naujas paveiksliukas.webp\")\n",
    "image.show()"
   ]
  },
  {
   "cell_type": "code",
   "execution_count": 7,
   "metadata": {},
   "outputs": [],
   "source": [
    "from PIL import ImageFilter\n",
    "\n",
    "spalvinimui = image.filter(ImageFilter.CONTOUR)\n",
    "spalvinimui.save(\"spalvinimui.webp\")\n",
    "image.show()"
   ]
  },
  {
   "cell_type": "code",
   "execution_count": 10,
   "metadata": {},
   "outputs": [],
   "source": [
    "bw = image.convert(\"L\")\n",
    "bw.save(\"nespalvotas.jpg\")\n",
    "image.show()"
   ]
  },
  {
   "cell_type": "code",
   "execution_count": 20,
   "metadata": {},
   "outputs": [],
   "source": [
    "r, g, b = image.split()\n",
    "r.save(\"r_isskaidytas.jpg\")\n",
    "image.show()\n"
   ]
  },
  {
   "cell_type": "markdown",
   "metadata": {},
   "source": []
  },
  {
   "cell_type": "code",
   "execution_count": 14,
   "metadata": {},
   "outputs": [
    {
     "ename": "TypeError",
     "evalue": "ImageDraw.point() got an unexpected keyword argument 'width'",
     "output_type": "error",
     "traceback": [
      "\u001b[1;31m---------------------------------------------------------------------------\u001b[0m",
      "\u001b[1;31mTypeError\u001b[0m                                 Traceback (most recent call last)",
      "Cell \u001b[1;32mIn[14], line 15\u001b[0m\n\u001b[0;32m     10\u001b[0m point \u001b[38;5;241m=\u001b[39m (\u001b[38;5;241m100\u001b[39m, \u001b[38;5;241m100\u001b[39m)\n\u001b[0;32m     12\u001b[0m \u001b[38;5;66;03m# Draw the point (dot) on the image\u001b[39;00m\n\u001b[0;32m     13\u001b[0m \u001b[38;5;66;03m# The 'fill' sets the color of the dot, for example (255, 0, 0) for red\u001b[39;00m\n\u001b[0;32m     14\u001b[0m \u001b[38;5;66;03m# The 'width' sets the thickness of the dot\u001b[39;00m\n\u001b[1;32m---> 15\u001b[0m \u001b[43mdraw\u001b[49m\u001b[38;5;241;43m.\u001b[39;49m\u001b[43mpoint\u001b[49m\u001b[43m(\u001b[49m\u001b[43mpoint\u001b[49m\u001b[43m,\u001b[49m\u001b[43m \u001b[49m\u001b[43mfill\u001b[49m\u001b[38;5;241;43m=\u001b[39;49m\u001b[38;5;124;43m\"\u001b[39;49m\u001b[38;5;124;43mred\u001b[39;49m\u001b[38;5;124;43m\"\u001b[39;49m\u001b[43m,\u001b[49m\u001b[43m \u001b[49m\u001b[43mwidth\u001b[49m\u001b[38;5;241;43m=\u001b[39;49m\u001b[38;5;241;43m15\u001b[39;49m\u001b[43m)\u001b[49m\n\u001b[0;32m     17\u001b[0m \u001b[38;5;66;03m# Save the modified image\u001b[39;00m\n\u001b[0;32m     18\u001b[0m image\u001b[38;5;241m.\u001b[39msave(\u001b[38;5;124m'\u001b[39m\u001b[38;5;124mmodified_image.jpg\u001b[39m\u001b[38;5;124m'\u001b[39m)\n",
      "\u001b[1;31mTypeError\u001b[0m: ImageDraw.point() got an unexpected keyword argument 'width'"
     ]
    }
   ],
   "source": [
    "from PIL import Image, ImageDraw\n",
    "\n",
    "# Open an existing image\n",
    "image = Image.open(\"image.jpg\")\n",
    "\n",
    "# Create drawing object\n",
    "draw = ImageDraw.Draw(image)\n",
    "\n",
    "# Define the position of the point (x, y)\n",
    "point = (100, 100)\n",
    "\n",
    "# Draw the point (dot) on the image\n",
    "# The 'fill' sets the color of the dot, for example (255, 0, 0) for red\n",
    "# The 'width' sets the thickness of the dot\n",
    "\n",
    "#point nepalaiko \"width=\"\n",
    "draw.point(point, fill=\"red\", width=15)\n",
    "\n",
    "# Save the modified image\n",
    "image.save('modified_image.jpg')\n"
   ]
  },
  {
   "cell_type": "code",
   "execution_count": 29,
   "metadata": {},
   "outputs": [],
   "source": [
    "from PIL import Image, ImageDraw\n",
    "\n",
    "# Open an existing image\n",
    "image = Image.open(\"su_tasku.jpg\")\n",
    "\n",
    "# Create drawing object\n",
    "draw = ImageDraw.Draw(image)\n",
    "\n",
    "# Define the position of the point (x, y)\n",
    "point = (1220, 300)\n",
    "\n",
    "# Set the size of the dot\n",
    "dot_size = 15\n",
    "\n",
    "# Calculate the coordinates for a bounding box\n",
    "bounding_box = (point[0] - dot_size // 2, point[1] - dot_size // 2, point[0] + dot_size // 2, point[1] + dot_size // 2)\n",
    "\n",
    "# Draw an ellipse (dot) on the image\n",
    "draw.ellipse(bounding_box, fill=\"red\")\n",
    "\n",
    "# Save the modified image\n",
    "image.save('su_tasku.jpg')\n",
    "\n"
   ]
  },
  {
   "cell_type": "code",
   "execution_count": 55,
   "metadata": {},
   "outputs": [
    {
     "ename": "FileNotFoundError",
     "evalue": "[WinError 3] The system cannot find the path specified: 'C'",
     "output_type": "error",
     "traceback": [
      "\u001b[1;31m---------------------------------------------------------------------------\u001b[0m",
      "\u001b[1;31mFileNotFoundError\u001b[0m                         Traceback (most recent call last)",
      "Cell \u001b[1;32mIn[55], line 14\u001b[0m\n\u001b[0;32m     11\u001b[0m target_directory \u001b[38;5;241m=\u001b[39m os\u001b[38;5;241m.\u001b[39mpath\u001b[38;5;241m.\u001b[39mjoin(diskas)\n\u001b[0;32m     13\u001b[0m \u001b[38;5;66;03m# Gauti visus failus šioje direktorijoje\u001b[39;00m\n\u001b[1;32m---> 14\u001b[0m all_files \u001b[38;5;241m=\u001b[39m \u001b[43mos\u001b[49m\u001b[38;5;241;43m.\u001b[39;49m\u001b[43mlistdir\u001b[49m\u001b[43m(\u001b[49m\u001b[43mtarget_directory\u001b[49m\u001b[43m)\u001b[49m\n\u001b[0;32m     16\u001b[0m \u001b[38;5;66;03m# Sukurkime sąrašą su visais \".jpg\" failais\u001b[39;00m\n\u001b[0;32m     17\u001b[0m image_files \u001b[38;5;241m=\u001b[39m [file \u001b[38;5;28;01mfor\u001b[39;00m file \u001b[38;5;129;01min\u001b[39;00m all_files \u001b[38;5;28;01mif\u001b[39;00m file\u001b[38;5;241m.\u001b[39mendswith(\u001b[38;5;124m\"\u001b[39m\u001b[38;5;124m.jpg\u001b[39m\u001b[38;5;124m\"\u001b[39m)]\n",
      "\u001b[1;31mFileNotFoundError\u001b[0m: [WinError 3] The system cannot find the path specified: 'C'"
     ]
    }
   ],
   "source": [
    "from PIL import Image, ImageDraw\n",
    "import os\n",
    "\n",
    "__file__ = \"Faina.jpg\"\n",
    "# Nustatome esamą darbinį katalogą\n",
    "current_directory = os.path.dirname(os.path.abspath(__file__))\n",
    "\n",
    "\n",
    "diskas = \"C\"\n",
    "# Kelias iki norimos direktorijos\n",
    "target_directory = os.path.join(diskas)\n",
    "\n",
    "# Gauti visus failus šioje direktorijoje\n",
    "all_files = os.listdir(target_directory)\n",
    "\n",
    "# Sukurkime sąrašą su visais \".jpg\" failais\n",
    "image_files = [file for file in all_files if file.endswith(\".jpg\")]\n",
    "\n",
    "print(image_files)"
   ]
  },
  {
   "cell_type": "code",
   "execution_count": 57,
   "metadata": {},
   "outputs": [
    {
     "name": "stdout",
     "output_type": "stream",
     "text": [
      "['b_isskaidytas.jpg', 'image.jpg', 'naujas paveiksliukas.jpg', 'nespalvotas.jpg', 'r_isskaidytas.jpg', 'su_tasku.jpg']\n"
     ]
    }
   ],
   "source": [
    "from PIL import Image, ImageDraw\n",
    "import os\n",
    "\n",
    "all_files = os.listdir()\n",
    "image_files = []\n",
    "for file in all_files:\n",
    "    if file[-4:] == \".jpg\":\n",
    "        image_files.append(file)\n",
    "print(image_files)\n",
    "    \n"
   ]
  },
  {
   "cell_type": "code",
   "execution_count": null,
   "metadata": {},
   "outputs": [],
   "source": [
    "import os\n",
    "\n"
   ]
  }
 ],
 "metadata": {
  "kernelspec": {
   "display_name": "Python 3",
   "language": "python",
   "name": "python3"
  },
  "language_info": {
   "codemirror_mode": {
    "name": "ipython",
    "version": 3
   },
   "file_extension": ".py",
   "mimetype": "text/x-python",
   "name": "python",
   "nbconvert_exporter": "python",
   "pygments_lexer": "ipython3",
   "version": "3.11.7"
  }
 },
 "nbformat": 4,
 "nbformat_minor": 2
}
